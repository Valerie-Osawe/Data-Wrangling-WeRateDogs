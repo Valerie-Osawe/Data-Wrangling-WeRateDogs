{
 "cells": [
  {
   "cell_type": "markdown",
   "id": "46a2b8b5",
   "metadata": {},
   "source": [
    "# Project: Wrangling and Analyze Data\n",
    "## Table of Contents\n",
    "<ul>\n",
    "<li><a href=\"#gather\">Gathering Data</a></li>\n",
    "<li><a href=\"#access\"> Assessing Data</a></li>\n",
    "<li><a href=\"#clean\">Cleaning Data</a></li>\n",
    "<li><a href=\"#store\">Storing Data</a></li>\n",
    "<li><a href=\"#visual\">Analyzing and Visualizing Data</a></li>\n",
    "</ul>"
   ]
  },
  {
   "cell_type": "code",
   "execution_count": 1,
   "id": "7d0f63d4",
   "metadata": {},
   "outputs": [],
   "source": [
    "#importing needed libraries\n",
    "import pandas as pd\n",
    "import numpy as np\n",
    "import requests\n",
    "import glob\n",
    "import os\n",
    "import tweepy\n",
    "from tweepy import OAuthHandler\n",
    "import json\n",
    "from timeit import default_timer as timer\n",
    "import re\n",
    "import matplotlib.pyplot as plt\n",
    "%matplotlib inline"
   ]
  },
  {
   "cell_type": "markdown",
   "id": "35a46344",
   "metadata": {},
   "source": [
    "<a id='gather'></a>\n",
    "## Gathering Data"
   ]
  },
  {
   "cell_type": "code",
   "execution_count": 2,
   "id": "68b6465e",
   "metadata": {
    "scrolled": true
   },
   "outputs": [],
   "source": [
    "#loading the data into tweet archive dataframe\n",
    "tweet_archive = pd.read_csv('twitter-archive-enhanced.csv')"
   ]
  },
  {
   "cell_type": "code",
   "execution_count": 3,
   "id": "dfa1d0a4",
   "metadata": {},
   "outputs": [],
   "source": [
    "#using request library to get image prediction file\n",
    "url =\"https://d17h27t6h515a5.cloudfront.net/topher/2017/August/599fd2ad_image-predictions/image-predictions.tsv\"\n",
    "response = requests.get(url)\n",
    "#saving the file \n",
    "with open(os.path.join(url.split('/')[-1]), mode = 'wb') as file:\n",
    "    file.write(response.content)"
   ]
  },
  {
   "cell_type": "code",
   "execution_count": 4,
   "id": "81320056",
   "metadata": {},
   "outputs": [],
   "source": [
    "#loading the image prediction file into image dataframe\n",
    "image = pd.read_csv('image-predictions.tsv', sep = '\\t')"
   ]
  },
  {
   "cell_type": "code",
   "execution_count": null,
   "id": "eba5e9e7",
   "metadata": {},
   "outputs": [],
   "source": [
    "# Query Twitter API for each tweet in the Twitter archive and save JSON in a text file\n",
    "# These are hidden to comply with Twitter's API terms and conditions\n",
    "consumer_key = 'HIDDEN'\n",
    "consumer_secret = 'HIDDEN'\n",
    "access_token = 'HIDDEN'\n",
    "access_secret = 'HIDDEN'\n",
    "\n",
    "auth = OAuthHandler(consumer_key, consumer_secret)\n",
    "auth.set_access_token(access_token, access_secret)\n",
    "\n",
    "api = tweepy.API(auth, wait_on_rate_limit=True)\n",
    "\n",
    "# Tweet IDs for which to gather additional data via Twitter's API\n",
    "tweet_ids = df_1.tweet_id.values\n",
    "len(tweet_ids)\n",
    "\n",
    "# Query Twitter's API for JSON data for each tweet ID in the Twitter archive\n",
    "count = 0\n",
    "fails_dict = {}\n",
    "start = timer()\n",
    "# Save each tweet's returned JSON as a new line in a .txt file\n",
    "with open('tweet_json.txt', 'w') as outfile:\n",
    "    # This loop will likely take 20-30 minutes to run because of Twitter's rate limit\n",
    "    for tweet_id in tweet_ids:\n",
    "        count += 1\n",
    "        print(str(count) + \": \" + str(tweet_id))\n",
    "        try:\n",
    "            tweet = api.get_status(tweet_id, tweet_mode='extended')\n",
    "            print(\"Success\")\n",
    "            json.dump(tweet._json, outfile)\n",
    "            outfile.write('\\n')\n",
    "        except tweepy.TweepError as e:\n",
    "            print(\"Fail\")\n",
    "            fails_dict[tweet_id] = e\n",
    "            pass\n",
    "end = timer()\n",
    "print(end - start)\n",
    "print(fails_dict)"
   ]
  },
  {
   "cell_type": "code",
   "execution_count": 5,
   "id": "23db3c0a",
   "metadata": {},
   "outputs": [],
   "source": [
    "#opening the tweet json text as a file\n",
    "df = []\n",
    "with open('tweet-json.txt') as file:\n",
    "    for line in file:\n",
    "        df.append(json.loads(line))"
   ]
  },
  {
   "cell_type": "code",
   "execution_count": 6,
   "id": "8d2727ec",
   "metadata": {},
   "outputs": [],
   "source": [
    "#loading the file into retweets dataframe\n",
    "retweets = pd.DataFrame(df,columns = ['id', 'retweet_count', 'favorite_count'])"
   ]
  },
  {
   "cell_type": "markdown",
   "id": "7c3f2583",
   "metadata": {},
   "source": [
    "<a id='access'></a>\n",
    "## Assessing Data"
   ]
  },
  {
   "cell_type": "code",
   "execution_count": 7,
   "id": "e621797e",
   "metadata": {},
   "outputs": [
    {
     "data": {
      "text/html": [
       "<div>\n",
       "<style scoped>\n",
       "    .dataframe tbody tr th:only-of-type {\n",
       "        vertical-align: middle;\n",
       "    }\n",
       "\n",
       "    .dataframe tbody tr th {\n",
       "        vertical-align: top;\n",
       "    }\n",
       "\n",
       "    .dataframe thead th {\n",
       "        text-align: right;\n",
       "    }\n",
       "</style>\n",
       "<table border=\"1\" class=\"dataframe\">\n",
       "  <thead>\n",
       "    <tr style=\"text-align: right;\">\n",
       "      <th></th>\n",
       "      <th>tweet_id</th>\n",
       "      <th>in_reply_to_status_id</th>\n",
       "      <th>in_reply_to_user_id</th>\n",
       "      <th>timestamp</th>\n",
       "      <th>source</th>\n",
       "      <th>text</th>\n",
       "      <th>retweeted_status_id</th>\n",
       "      <th>retweeted_status_user_id</th>\n",
       "      <th>retweeted_status_timestamp</th>\n",
       "      <th>expanded_urls</th>\n",
       "      <th>rating_numerator</th>\n",
       "      <th>rating_denominator</th>\n",
       "      <th>name</th>\n",
       "      <th>doggo</th>\n",
       "      <th>floofer</th>\n",
       "      <th>pupper</th>\n",
       "      <th>puppo</th>\n",
       "    </tr>\n",
       "  </thead>\n",
       "  <tbody>\n",
       "    <tr>\n",
       "      <th>0</th>\n",
       "      <td>892420643555336193</td>\n",
       "      <td>NaN</td>\n",
       "      <td>NaN</td>\n",
       "      <td>2017-08-01 16:23:56 +0000</td>\n",
       "      <td>&lt;a href=\"http://twitter.com/download/iphone\" r...</td>\n",
       "      <td>This is Phineas. He's a mystical boy. Only eve...</td>\n",
       "      <td>NaN</td>\n",
       "      <td>NaN</td>\n",
       "      <td>NaN</td>\n",
       "      <td>https://twitter.com/dog_rates/status/892420643...</td>\n",
       "      <td>13</td>\n",
       "      <td>10</td>\n",
       "      <td>Phineas</td>\n",
       "      <td>None</td>\n",
       "      <td>None</td>\n",
       "      <td>None</td>\n",
       "      <td>None</td>\n",
       "    </tr>\n",
       "    <tr>\n",
       "      <th>1</th>\n",
       "      <td>892177421306343426</td>\n",
       "      <td>NaN</td>\n",
       "      <td>NaN</td>\n",
       "      <td>2017-08-01 00:17:27 +0000</td>\n",
       "      <td>&lt;a href=\"http://twitter.com/download/iphone\" r...</td>\n",
       "      <td>This is Tilly. She's just checking pup on you....</td>\n",
       "      <td>NaN</td>\n",
       "      <td>NaN</td>\n",
       "      <td>NaN</td>\n",
       "      <td>https://twitter.com/dog_rates/status/892177421...</td>\n",
       "      <td>13</td>\n",
       "      <td>10</td>\n",
       "      <td>Tilly</td>\n",
       "      <td>None</td>\n",
       "      <td>None</td>\n",
       "      <td>None</td>\n",
       "      <td>None</td>\n",
       "    </tr>\n",
       "    <tr>\n",
       "      <th>2</th>\n",
       "      <td>891815181378084864</td>\n",
       "      <td>NaN</td>\n",
       "      <td>NaN</td>\n",
       "      <td>2017-07-31 00:18:03 +0000</td>\n",
       "      <td>&lt;a href=\"http://twitter.com/download/iphone\" r...</td>\n",
       "      <td>This is Archie. He is a rare Norwegian Pouncin...</td>\n",
       "      <td>NaN</td>\n",
       "      <td>NaN</td>\n",
       "      <td>NaN</td>\n",
       "      <td>https://twitter.com/dog_rates/status/891815181...</td>\n",
       "      <td>12</td>\n",
       "      <td>10</td>\n",
       "      <td>Archie</td>\n",
       "      <td>None</td>\n",
       "      <td>None</td>\n",
       "      <td>None</td>\n",
       "      <td>None</td>\n",
       "    </tr>\n",
       "    <tr>\n",
       "      <th>3</th>\n",
       "      <td>891689557279858688</td>\n",
       "      <td>NaN</td>\n",
       "      <td>NaN</td>\n",
       "      <td>2017-07-30 15:58:51 +0000</td>\n",
       "      <td>&lt;a href=\"http://twitter.com/download/iphone\" r...</td>\n",
       "      <td>This is Darla. She commenced a snooze mid meal...</td>\n",
       "      <td>NaN</td>\n",
       "      <td>NaN</td>\n",
       "      <td>NaN</td>\n",
       "      <td>https://twitter.com/dog_rates/status/891689557...</td>\n",
       "      <td>13</td>\n",
       "      <td>10</td>\n",
       "      <td>Darla</td>\n",
       "      <td>None</td>\n",
       "      <td>None</td>\n",
       "      <td>None</td>\n",
       "      <td>None</td>\n",
       "    </tr>\n",
       "    <tr>\n",
       "      <th>4</th>\n",
       "      <td>891327558926688256</td>\n",
       "      <td>NaN</td>\n",
       "      <td>NaN</td>\n",
       "      <td>2017-07-29 16:00:24 +0000</td>\n",
       "      <td>&lt;a href=\"http://twitter.com/download/iphone\" r...</td>\n",
       "      <td>This is Franklin. He would like you to stop ca...</td>\n",
       "      <td>NaN</td>\n",
       "      <td>NaN</td>\n",
       "      <td>NaN</td>\n",
       "      <td>https://twitter.com/dog_rates/status/891327558...</td>\n",
       "      <td>12</td>\n",
       "      <td>10</td>\n",
       "      <td>Franklin</td>\n",
       "      <td>None</td>\n",
       "      <td>None</td>\n",
       "      <td>None</td>\n",
       "      <td>None</td>\n",
       "    </tr>\n",
       "    <tr>\n",
       "      <th>...</th>\n",
       "      <td>...</td>\n",
       "      <td>...</td>\n",
       "      <td>...</td>\n",
       "      <td>...</td>\n",
       "      <td>...</td>\n",
       "      <td>...</td>\n",
       "      <td>...</td>\n",
       "      <td>...</td>\n",
       "      <td>...</td>\n",
       "      <td>...</td>\n",
       "      <td>...</td>\n",
       "      <td>...</td>\n",
       "      <td>...</td>\n",
       "      <td>...</td>\n",
       "      <td>...</td>\n",
       "      <td>...</td>\n",
       "      <td>...</td>\n",
       "    </tr>\n",
       "    <tr>\n",
       "      <th>2351</th>\n",
       "      <td>666049248165822465</td>\n",
       "      <td>NaN</td>\n",
       "      <td>NaN</td>\n",
       "      <td>2015-11-16 00:24:50 +0000</td>\n",
       "      <td>&lt;a href=\"http://twitter.com/download/iphone\" r...</td>\n",
       "      <td>Here we have a 1949 1st generation vulpix. Enj...</td>\n",
       "      <td>NaN</td>\n",
       "      <td>NaN</td>\n",
       "      <td>NaN</td>\n",
       "      <td>https://twitter.com/dog_rates/status/666049248...</td>\n",
       "      <td>5</td>\n",
       "      <td>10</td>\n",
       "      <td>None</td>\n",
       "      <td>None</td>\n",
       "      <td>None</td>\n",
       "      <td>None</td>\n",
       "      <td>None</td>\n",
       "    </tr>\n",
       "    <tr>\n",
       "      <th>2352</th>\n",
       "      <td>666044226329800704</td>\n",
       "      <td>NaN</td>\n",
       "      <td>NaN</td>\n",
       "      <td>2015-11-16 00:04:52 +0000</td>\n",
       "      <td>&lt;a href=\"http://twitter.com/download/iphone\" r...</td>\n",
       "      <td>This is a purebred Piers Morgan. Loves to Netf...</td>\n",
       "      <td>NaN</td>\n",
       "      <td>NaN</td>\n",
       "      <td>NaN</td>\n",
       "      <td>https://twitter.com/dog_rates/status/666044226...</td>\n",
       "      <td>6</td>\n",
       "      <td>10</td>\n",
       "      <td>a</td>\n",
       "      <td>None</td>\n",
       "      <td>None</td>\n",
       "      <td>None</td>\n",
       "      <td>None</td>\n",
       "    </tr>\n",
       "    <tr>\n",
       "      <th>2353</th>\n",
       "      <td>666033412701032449</td>\n",
       "      <td>NaN</td>\n",
       "      <td>NaN</td>\n",
       "      <td>2015-11-15 23:21:54 +0000</td>\n",
       "      <td>&lt;a href=\"http://twitter.com/download/iphone\" r...</td>\n",
       "      <td>Here is a very happy pup. Big fan of well-main...</td>\n",
       "      <td>NaN</td>\n",
       "      <td>NaN</td>\n",
       "      <td>NaN</td>\n",
       "      <td>https://twitter.com/dog_rates/status/666033412...</td>\n",
       "      <td>9</td>\n",
       "      <td>10</td>\n",
       "      <td>a</td>\n",
       "      <td>None</td>\n",
       "      <td>None</td>\n",
       "      <td>None</td>\n",
       "      <td>None</td>\n",
       "    </tr>\n",
       "    <tr>\n",
       "      <th>2354</th>\n",
       "      <td>666029285002620928</td>\n",
       "      <td>NaN</td>\n",
       "      <td>NaN</td>\n",
       "      <td>2015-11-15 23:05:30 +0000</td>\n",
       "      <td>&lt;a href=\"http://twitter.com/download/iphone\" r...</td>\n",
       "      <td>This is a western brown Mitsubishi terrier. Up...</td>\n",
       "      <td>NaN</td>\n",
       "      <td>NaN</td>\n",
       "      <td>NaN</td>\n",
       "      <td>https://twitter.com/dog_rates/status/666029285...</td>\n",
       "      <td>7</td>\n",
       "      <td>10</td>\n",
       "      <td>a</td>\n",
       "      <td>None</td>\n",
       "      <td>None</td>\n",
       "      <td>None</td>\n",
       "      <td>None</td>\n",
       "    </tr>\n",
       "    <tr>\n",
       "      <th>2355</th>\n",
       "      <td>666020888022790149</td>\n",
       "      <td>NaN</td>\n",
       "      <td>NaN</td>\n",
       "      <td>2015-11-15 22:32:08 +0000</td>\n",
       "      <td>&lt;a href=\"http://twitter.com/download/iphone\" r...</td>\n",
       "      <td>Here we have a Japanese Irish Setter. Lost eye...</td>\n",
       "      <td>NaN</td>\n",
       "      <td>NaN</td>\n",
       "      <td>NaN</td>\n",
       "      <td>https://twitter.com/dog_rates/status/666020888...</td>\n",
       "      <td>8</td>\n",
       "      <td>10</td>\n",
       "      <td>None</td>\n",
       "      <td>None</td>\n",
       "      <td>None</td>\n",
       "      <td>None</td>\n",
       "      <td>None</td>\n",
       "    </tr>\n",
       "  </tbody>\n",
       "</table>\n",
       "<p>2356 rows × 17 columns</p>\n",
       "</div>"
      ],
      "text/plain": [
       "                tweet_id  in_reply_to_status_id  in_reply_to_user_id  \\\n",
       "0     892420643555336193                    NaN                  NaN   \n",
       "1     892177421306343426                    NaN                  NaN   \n",
       "2     891815181378084864                    NaN                  NaN   \n",
       "3     891689557279858688                    NaN                  NaN   \n",
       "4     891327558926688256                    NaN                  NaN   \n",
       "...                  ...                    ...                  ...   \n",
       "2351  666049248165822465                    NaN                  NaN   \n",
       "2352  666044226329800704                    NaN                  NaN   \n",
       "2353  666033412701032449                    NaN                  NaN   \n",
       "2354  666029285002620928                    NaN                  NaN   \n",
       "2355  666020888022790149                    NaN                  NaN   \n",
       "\n",
       "                      timestamp  \\\n",
       "0     2017-08-01 16:23:56 +0000   \n",
       "1     2017-08-01 00:17:27 +0000   \n",
       "2     2017-07-31 00:18:03 +0000   \n",
       "3     2017-07-30 15:58:51 +0000   \n",
       "4     2017-07-29 16:00:24 +0000   \n",
       "...                         ...   \n",
       "2351  2015-11-16 00:24:50 +0000   \n",
       "2352  2015-11-16 00:04:52 +0000   \n",
       "2353  2015-11-15 23:21:54 +0000   \n",
       "2354  2015-11-15 23:05:30 +0000   \n",
       "2355  2015-11-15 22:32:08 +0000   \n",
       "\n",
       "                                                 source  \\\n",
       "0     <a href=\"http://twitter.com/download/iphone\" r...   \n",
       "1     <a href=\"http://twitter.com/download/iphone\" r...   \n",
       "2     <a href=\"http://twitter.com/download/iphone\" r...   \n",
       "3     <a href=\"http://twitter.com/download/iphone\" r...   \n",
       "4     <a href=\"http://twitter.com/download/iphone\" r...   \n",
       "...                                                 ...   \n",
       "2351  <a href=\"http://twitter.com/download/iphone\" r...   \n",
       "2352  <a href=\"http://twitter.com/download/iphone\" r...   \n",
       "2353  <a href=\"http://twitter.com/download/iphone\" r...   \n",
       "2354  <a href=\"http://twitter.com/download/iphone\" r...   \n",
       "2355  <a href=\"http://twitter.com/download/iphone\" r...   \n",
       "\n",
       "                                                   text  retweeted_status_id  \\\n",
       "0     This is Phineas. He's a mystical boy. Only eve...                  NaN   \n",
       "1     This is Tilly. She's just checking pup on you....                  NaN   \n",
       "2     This is Archie. He is a rare Norwegian Pouncin...                  NaN   \n",
       "3     This is Darla. She commenced a snooze mid meal...                  NaN   \n",
       "4     This is Franklin. He would like you to stop ca...                  NaN   \n",
       "...                                                 ...                  ...   \n",
       "2351  Here we have a 1949 1st generation vulpix. Enj...                  NaN   \n",
       "2352  This is a purebred Piers Morgan. Loves to Netf...                  NaN   \n",
       "2353  Here is a very happy pup. Big fan of well-main...                  NaN   \n",
       "2354  This is a western brown Mitsubishi terrier. Up...                  NaN   \n",
       "2355  Here we have a Japanese Irish Setter. Lost eye...                  NaN   \n",
       "\n",
       "      retweeted_status_user_id retweeted_status_timestamp  \\\n",
       "0                          NaN                        NaN   \n",
       "1                          NaN                        NaN   \n",
       "2                          NaN                        NaN   \n",
       "3                          NaN                        NaN   \n",
       "4                          NaN                        NaN   \n",
       "...                        ...                        ...   \n",
       "2351                       NaN                        NaN   \n",
       "2352                       NaN                        NaN   \n",
       "2353                       NaN                        NaN   \n",
       "2354                       NaN                        NaN   \n",
       "2355                       NaN                        NaN   \n",
       "\n",
       "                                          expanded_urls  rating_numerator  \\\n",
       "0     https://twitter.com/dog_rates/status/892420643...                13   \n",
       "1     https://twitter.com/dog_rates/status/892177421...                13   \n",
       "2     https://twitter.com/dog_rates/status/891815181...                12   \n",
       "3     https://twitter.com/dog_rates/status/891689557...                13   \n",
       "4     https://twitter.com/dog_rates/status/891327558...                12   \n",
       "...                                                 ...               ...   \n",
       "2351  https://twitter.com/dog_rates/status/666049248...                 5   \n",
       "2352  https://twitter.com/dog_rates/status/666044226...                 6   \n",
       "2353  https://twitter.com/dog_rates/status/666033412...                 9   \n",
       "2354  https://twitter.com/dog_rates/status/666029285...                 7   \n",
       "2355  https://twitter.com/dog_rates/status/666020888...                 8   \n",
       "\n",
       "      rating_denominator      name doggo floofer pupper puppo  \n",
       "0                     10   Phineas  None    None   None  None  \n",
       "1                     10     Tilly  None    None   None  None  \n",
       "2                     10    Archie  None    None   None  None  \n",
       "3                     10     Darla  None    None   None  None  \n",
       "4                     10  Franklin  None    None   None  None  \n",
       "...                  ...       ...   ...     ...    ...   ...  \n",
       "2351                  10      None  None    None   None  None  \n",
       "2352                  10         a  None    None   None  None  \n",
       "2353                  10         a  None    None   None  None  \n",
       "2354                  10         a  None    None   None  None  \n",
       "2355                  10      None  None    None   None  None  \n",
       "\n",
       "[2356 rows x 17 columns]"
      ]
     },
     "execution_count": 7,
     "metadata": {},
     "output_type": "execute_result"
    }
   ],
   "source": [
    "#displaying the tweet archive table\n",
    "tweet_archive"
   ]
  },
  {
   "cell_type": "code",
   "execution_count": 8,
   "id": "b11f3366",
   "metadata": {
    "scrolled": true
   },
   "outputs": [
    {
     "data": {
      "text/html": [
       "<div>\n",
       "<style scoped>\n",
       "    .dataframe tbody tr th:only-of-type {\n",
       "        vertical-align: middle;\n",
       "    }\n",
       "\n",
       "    .dataframe tbody tr th {\n",
       "        vertical-align: top;\n",
       "    }\n",
       "\n",
       "    .dataframe thead th {\n",
       "        text-align: right;\n",
       "    }\n",
       "</style>\n",
       "<table border=\"1\" class=\"dataframe\">\n",
       "  <thead>\n",
       "    <tr style=\"text-align: right;\">\n",
       "      <th></th>\n",
       "      <th>tweet_id</th>\n",
       "      <th>jpg_url</th>\n",
       "      <th>img_num</th>\n",
       "      <th>p1</th>\n",
       "      <th>p1_conf</th>\n",
       "      <th>p1_dog</th>\n",
       "      <th>p2</th>\n",
       "      <th>p2_conf</th>\n",
       "      <th>p2_dog</th>\n",
       "      <th>p3</th>\n",
       "      <th>p3_conf</th>\n",
       "      <th>p3_dog</th>\n",
       "    </tr>\n",
       "  </thead>\n",
       "  <tbody>\n",
       "    <tr>\n",
       "      <th>0</th>\n",
       "      <td>666020888022790149</td>\n",
       "      <td>https://pbs.twimg.com/media/CT4udn0WwAA0aMy.jpg</td>\n",
       "      <td>1</td>\n",
       "      <td>Welsh_springer_spaniel</td>\n",
       "      <td>0.465074</td>\n",
       "      <td>True</td>\n",
       "      <td>collie</td>\n",
       "      <td>0.156665</td>\n",
       "      <td>True</td>\n",
       "      <td>Shetland_sheepdog</td>\n",
       "      <td>0.061428</td>\n",
       "      <td>True</td>\n",
       "    </tr>\n",
       "    <tr>\n",
       "      <th>1</th>\n",
       "      <td>666029285002620928</td>\n",
       "      <td>https://pbs.twimg.com/media/CT42GRgUYAA5iDo.jpg</td>\n",
       "      <td>1</td>\n",
       "      <td>redbone</td>\n",
       "      <td>0.506826</td>\n",
       "      <td>True</td>\n",
       "      <td>miniature_pinscher</td>\n",
       "      <td>0.074192</td>\n",
       "      <td>True</td>\n",
       "      <td>Rhodesian_ridgeback</td>\n",
       "      <td>0.072010</td>\n",
       "      <td>True</td>\n",
       "    </tr>\n",
       "    <tr>\n",
       "      <th>2</th>\n",
       "      <td>666033412701032449</td>\n",
       "      <td>https://pbs.twimg.com/media/CT4521TWwAEvMyu.jpg</td>\n",
       "      <td>1</td>\n",
       "      <td>German_shepherd</td>\n",
       "      <td>0.596461</td>\n",
       "      <td>True</td>\n",
       "      <td>malinois</td>\n",
       "      <td>0.138584</td>\n",
       "      <td>True</td>\n",
       "      <td>bloodhound</td>\n",
       "      <td>0.116197</td>\n",
       "      <td>True</td>\n",
       "    </tr>\n",
       "    <tr>\n",
       "      <th>3</th>\n",
       "      <td>666044226329800704</td>\n",
       "      <td>https://pbs.twimg.com/media/CT5Dr8HUEAA-lEu.jpg</td>\n",
       "      <td>1</td>\n",
       "      <td>Rhodesian_ridgeback</td>\n",
       "      <td>0.408143</td>\n",
       "      <td>True</td>\n",
       "      <td>redbone</td>\n",
       "      <td>0.360687</td>\n",
       "      <td>True</td>\n",
       "      <td>miniature_pinscher</td>\n",
       "      <td>0.222752</td>\n",
       "      <td>True</td>\n",
       "    </tr>\n",
       "    <tr>\n",
       "      <th>4</th>\n",
       "      <td>666049248165822465</td>\n",
       "      <td>https://pbs.twimg.com/media/CT5IQmsXIAAKY4A.jpg</td>\n",
       "      <td>1</td>\n",
       "      <td>miniature_pinscher</td>\n",
       "      <td>0.560311</td>\n",
       "      <td>True</td>\n",
       "      <td>Rottweiler</td>\n",
       "      <td>0.243682</td>\n",
       "      <td>True</td>\n",
       "      <td>Doberman</td>\n",
       "      <td>0.154629</td>\n",
       "      <td>True</td>\n",
       "    </tr>\n",
       "    <tr>\n",
       "      <th>...</th>\n",
       "      <td>...</td>\n",
       "      <td>...</td>\n",
       "      <td>...</td>\n",
       "      <td>...</td>\n",
       "      <td>...</td>\n",
       "      <td>...</td>\n",
       "      <td>...</td>\n",
       "      <td>...</td>\n",
       "      <td>...</td>\n",
       "      <td>...</td>\n",
       "      <td>...</td>\n",
       "      <td>...</td>\n",
       "    </tr>\n",
       "    <tr>\n",
       "      <th>2070</th>\n",
       "      <td>891327558926688256</td>\n",
       "      <td>https://pbs.twimg.com/media/DF6hr6BUMAAzZgT.jpg</td>\n",
       "      <td>2</td>\n",
       "      <td>basset</td>\n",
       "      <td>0.555712</td>\n",
       "      <td>True</td>\n",
       "      <td>English_springer</td>\n",
       "      <td>0.225770</td>\n",
       "      <td>True</td>\n",
       "      <td>German_short-haired_pointer</td>\n",
       "      <td>0.175219</td>\n",
       "      <td>True</td>\n",
       "    </tr>\n",
       "    <tr>\n",
       "      <th>2071</th>\n",
       "      <td>891689557279858688</td>\n",
       "      <td>https://pbs.twimg.com/media/DF_q7IAWsAEuuN8.jpg</td>\n",
       "      <td>1</td>\n",
       "      <td>paper_towel</td>\n",
       "      <td>0.170278</td>\n",
       "      <td>False</td>\n",
       "      <td>Labrador_retriever</td>\n",
       "      <td>0.168086</td>\n",
       "      <td>True</td>\n",
       "      <td>spatula</td>\n",
       "      <td>0.040836</td>\n",
       "      <td>False</td>\n",
       "    </tr>\n",
       "    <tr>\n",
       "      <th>2072</th>\n",
       "      <td>891815181378084864</td>\n",
       "      <td>https://pbs.twimg.com/media/DGBdLU1WsAANxJ9.jpg</td>\n",
       "      <td>1</td>\n",
       "      <td>Chihuahua</td>\n",
       "      <td>0.716012</td>\n",
       "      <td>True</td>\n",
       "      <td>malamute</td>\n",
       "      <td>0.078253</td>\n",
       "      <td>True</td>\n",
       "      <td>kelpie</td>\n",
       "      <td>0.031379</td>\n",
       "      <td>True</td>\n",
       "    </tr>\n",
       "    <tr>\n",
       "      <th>2073</th>\n",
       "      <td>892177421306343426</td>\n",
       "      <td>https://pbs.twimg.com/media/DGGmoV4XsAAUL6n.jpg</td>\n",
       "      <td>1</td>\n",
       "      <td>Chihuahua</td>\n",
       "      <td>0.323581</td>\n",
       "      <td>True</td>\n",
       "      <td>Pekinese</td>\n",
       "      <td>0.090647</td>\n",
       "      <td>True</td>\n",
       "      <td>papillon</td>\n",
       "      <td>0.068957</td>\n",
       "      <td>True</td>\n",
       "    </tr>\n",
       "    <tr>\n",
       "      <th>2074</th>\n",
       "      <td>892420643555336193</td>\n",
       "      <td>https://pbs.twimg.com/media/DGKD1-bXoAAIAUK.jpg</td>\n",
       "      <td>1</td>\n",
       "      <td>orange</td>\n",
       "      <td>0.097049</td>\n",
       "      <td>False</td>\n",
       "      <td>bagel</td>\n",
       "      <td>0.085851</td>\n",
       "      <td>False</td>\n",
       "      <td>banana</td>\n",
       "      <td>0.076110</td>\n",
       "      <td>False</td>\n",
       "    </tr>\n",
       "  </tbody>\n",
       "</table>\n",
       "<p>2075 rows × 12 columns</p>\n",
       "</div>"
      ],
      "text/plain": [
       "                tweet_id                                          jpg_url  \\\n",
       "0     666020888022790149  https://pbs.twimg.com/media/CT4udn0WwAA0aMy.jpg   \n",
       "1     666029285002620928  https://pbs.twimg.com/media/CT42GRgUYAA5iDo.jpg   \n",
       "2     666033412701032449  https://pbs.twimg.com/media/CT4521TWwAEvMyu.jpg   \n",
       "3     666044226329800704  https://pbs.twimg.com/media/CT5Dr8HUEAA-lEu.jpg   \n",
       "4     666049248165822465  https://pbs.twimg.com/media/CT5IQmsXIAAKY4A.jpg   \n",
       "...                  ...                                              ...   \n",
       "2070  891327558926688256  https://pbs.twimg.com/media/DF6hr6BUMAAzZgT.jpg   \n",
       "2071  891689557279858688  https://pbs.twimg.com/media/DF_q7IAWsAEuuN8.jpg   \n",
       "2072  891815181378084864  https://pbs.twimg.com/media/DGBdLU1WsAANxJ9.jpg   \n",
       "2073  892177421306343426  https://pbs.twimg.com/media/DGGmoV4XsAAUL6n.jpg   \n",
       "2074  892420643555336193  https://pbs.twimg.com/media/DGKD1-bXoAAIAUK.jpg   \n",
       "\n",
       "      img_num                      p1   p1_conf  p1_dog                  p2  \\\n",
       "0           1  Welsh_springer_spaniel  0.465074    True              collie   \n",
       "1           1                 redbone  0.506826    True  miniature_pinscher   \n",
       "2           1         German_shepherd  0.596461    True            malinois   \n",
       "3           1     Rhodesian_ridgeback  0.408143    True             redbone   \n",
       "4           1      miniature_pinscher  0.560311    True          Rottweiler   \n",
       "...       ...                     ...       ...     ...                 ...   \n",
       "2070        2                  basset  0.555712    True    English_springer   \n",
       "2071        1             paper_towel  0.170278   False  Labrador_retriever   \n",
       "2072        1               Chihuahua  0.716012    True            malamute   \n",
       "2073        1               Chihuahua  0.323581    True            Pekinese   \n",
       "2074        1                  orange  0.097049   False               bagel   \n",
       "\n",
       "       p2_conf  p2_dog                           p3   p3_conf  p3_dog  \n",
       "0     0.156665    True            Shetland_sheepdog  0.061428    True  \n",
       "1     0.074192    True          Rhodesian_ridgeback  0.072010    True  \n",
       "2     0.138584    True                   bloodhound  0.116197    True  \n",
       "3     0.360687    True           miniature_pinscher  0.222752    True  \n",
       "4     0.243682    True                     Doberman  0.154629    True  \n",
       "...        ...     ...                          ...       ...     ...  \n",
       "2070  0.225770    True  German_short-haired_pointer  0.175219    True  \n",
       "2071  0.168086    True                      spatula  0.040836   False  \n",
       "2072  0.078253    True                       kelpie  0.031379    True  \n",
       "2073  0.090647    True                     papillon  0.068957    True  \n",
       "2074  0.085851   False                       banana  0.076110   False  \n",
       "\n",
       "[2075 rows x 12 columns]"
      ]
     },
     "execution_count": 8,
     "metadata": {},
     "output_type": "execute_result"
    }
   ],
   "source": [
    "#displaying the image table\n",
    "image"
   ]
  },
  {
   "cell_type": "code",
   "execution_count": 9,
   "id": "dc1609ed",
   "metadata": {},
   "outputs": [
    {
     "data": {
      "text/html": [
       "<div>\n",
       "<style scoped>\n",
       "    .dataframe tbody tr th:only-of-type {\n",
       "        vertical-align: middle;\n",
       "    }\n",
       "\n",
       "    .dataframe tbody tr th {\n",
       "        vertical-align: top;\n",
       "    }\n",
       "\n",
       "    .dataframe thead th {\n",
       "        text-align: right;\n",
       "    }\n",
       "</style>\n",
       "<table border=\"1\" class=\"dataframe\">\n",
       "  <thead>\n",
       "    <tr style=\"text-align: right;\">\n",
       "      <th></th>\n",
       "      <th>id</th>\n",
       "      <th>retweet_count</th>\n",
       "      <th>favorite_count</th>\n",
       "    </tr>\n",
       "  </thead>\n",
       "  <tbody>\n",
       "    <tr>\n",
       "      <th>0</th>\n",
       "      <td>892420643555336193</td>\n",
       "      <td>8853</td>\n",
       "      <td>39467</td>\n",
       "    </tr>\n",
       "    <tr>\n",
       "      <th>1</th>\n",
       "      <td>892177421306343426</td>\n",
       "      <td>6514</td>\n",
       "      <td>33819</td>\n",
       "    </tr>\n",
       "    <tr>\n",
       "      <th>2</th>\n",
       "      <td>891815181378084864</td>\n",
       "      <td>4328</td>\n",
       "      <td>25461</td>\n",
       "    </tr>\n",
       "    <tr>\n",
       "      <th>3</th>\n",
       "      <td>891689557279858688</td>\n",
       "      <td>8964</td>\n",
       "      <td>42908</td>\n",
       "    </tr>\n",
       "    <tr>\n",
       "      <th>4</th>\n",
       "      <td>891327558926688256</td>\n",
       "      <td>9774</td>\n",
       "      <td>41048</td>\n",
       "    </tr>\n",
       "    <tr>\n",
       "      <th>...</th>\n",
       "      <td>...</td>\n",
       "      <td>...</td>\n",
       "      <td>...</td>\n",
       "    </tr>\n",
       "    <tr>\n",
       "      <th>2349</th>\n",
       "      <td>666049248165822465</td>\n",
       "      <td>41</td>\n",
       "      <td>111</td>\n",
       "    </tr>\n",
       "    <tr>\n",
       "      <th>2350</th>\n",
       "      <td>666044226329800704</td>\n",
       "      <td>147</td>\n",
       "      <td>311</td>\n",
       "    </tr>\n",
       "    <tr>\n",
       "      <th>2351</th>\n",
       "      <td>666033412701032449</td>\n",
       "      <td>47</td>\n",
       "      <td>128</td>\n",
       "    </tr>\n",
       "    <tr>\n",
       "      <th>2352</th>\n",
       "      <td>666029285002620928</td>\n",
       "      <td>48</td>\n",
       "      <td>132</td>\n",
       "    </tr>\n",
       "    <tr>\n",
       "      <th>2353</th>\n",
       "      <td>666020888022790149</td>\n",
       "      <td>532</td>\n",
       "      <td>2535</td>\n",
       "    </tr>\n",
       "  </tbody>\n",
       "</table>\n",
       "<p>2354 rows × 3 columns</p>\n",
       "</div>"
      ],
      "text/plain": [
       "                      id  retweet_count  favorite_count\n",
       "0     892420643555336193           8853           39467\n",
       "1     892177421306343426           6514           33819\n",
       "2     891815181378084864           4328           25461\n",
       "3     891689557279858688           8964           42908\n",
       "4     891327558926688256           9774           41048\n",
       "...                  ...            ...             ...\n",
       "2349  666049248165822465             41             111\n",
       "2350  666044226329800704            147             311\n",
       "2351  666033412701032449             47             128\n",
       "2352  666029285002620928             48             132\n",
       "2353  666020888022790149            532            2535\n",
       "\n",
       "[2354 rows x 3 columns]"
      ]
     },
     "execution_count": 9,
     "metadata": {},
     "output_type": "execute_result"
    }
   ],
   "source": [
    "#displaying the retweets table\n",
    "retweets"
   ]
  },
  {
   "cell_type": "code",
   "execution_count": 10,
   "id": "a143d134",
   "metadata": {},
   "outputs": [
    {
     "name": "stdout",
     "output_type": "stream",
     "text": [
      "<class 'pandas.core.frame.DataFrame'>\n",
      "RangeIndex: 2356 entries, 0 to 2355\n",
      "Data columns (total 17 columns):\n",
      " #   Column                      Non-Null Count  Dtype  \n",
      "---  ------                      --------------  -----  \n",
      " 0   tweet_id                    2356 non-null   int64  \n",
      " 1   in_reply_to_status_id       78 non-null     float64\n",
      " 2   in_reply_to_user_id         78 non-null     float64\n",
      " 3   timestamp                   2356 non-null   object \n",
      " 4   source                      2356 non-null   object \n",
      " 5   text                        2356 non-null   object \n",
      " 6   retweeted_status_id         181 non-null    float64\n",
      " 7   retweeted_status_user_id    181 non-null    float64\n",
      " 8   retweeted_status_timestamp  181 non-null    object \n",
      " 9   expanded_urls               2297 non-null   object \n",
      " 10  rating_numerator            2356 non-null   int64  \n",
      " 11  rating_denominator          2356 non-null   int64  \n",
      " 12  name                        2356 non-null   object \n",
      " 13  doggo                       2356 non-null   object \n",
      " 14  floofer                     2356 non-null   object \n",
      " 15  pupper                      2356 non-null   object \n",
      " 16  puppo                       2356 non-null   object \n",
      "dtypes: float64(4), int64(3), object(10)\n",
      "memory usage: 313.0+ KB\n"
     ]
    }
   ],
   "source": [
    "#checking for null values and datatypes in the dataframe\n",
    "tweet_archive.info()"
   ]
  },
  {
   "cell_type": "code",
   "execution_count": 11,
   "id": "db777702",
   "metadata": {},
   "outputs": [
    {
     "data": {
      "text/html": [
       "<div>\n",
       "<style scoped>\n",
       "    .dataframe tbody tr th:only-of-type {\n",
       "        vertical-align: middle;\n",
       "    }\n",
       "\n",
       "    .dataframe tbody tr th {\n",
       "        vertical-align: top;\n",
       "    }\n",
       "\n",
       "    .dataframe thead th {\n",
       "        text-align: right;\n",
       "    }\n",
       "</style>\n",
       "<table border=\"1\" class=\"dataframe\">\n",
       "  <thead>\n",
       "    <tr style=\"text-align: right;\">\n",
       "      <th></th>\n",
       "      <th>tweet_id</th>\n",
       "      <th>in_reply_to_status_id</th>\n",
       "      <th>in_reply_to_user_id</th>\n",
       "      <th>timestamp</th>\n",
       "      <th>source</th>\n",
       "      <th>text</th>\n",
       "      <th>retweeted_status_id</th>\n",
       "      <th>retweeted_status_user_id</th>\n",
       "      <th>retweeted_status_timestamp</th>\n",
       "      <th>expanded_urls</th>\n",
       "      <th>rating_numerator</th>\n",
       "      <th>rating_denominator</th>\n",
       "      <th>name</th>\n",
       "      <th>doggo</th>\n",
       "      <th>floofer</th>\n",
       "      <th>pupper</th>\n",
       "      <th>puppo</th>\n",
       "    </tr>\n",
       "  </thead>\n",
       "  <tbody>\n",
       "    <tr>\n",
       "      <th>2226</th>\n",
       "      <td>668274247790391296</td>\n",
       "      <td>NaN</td>\n",
       "      <td>NaN</td>\n",
       "      <td>2015-11-22 03:46:11 +0000</td>\n",
       "      <td>&lt;a href=\"http://twitter.com/download/iphone\" r...</td>\n",
       "      <td>Meet Sophie. Her son just got in the car to le...</td>\n",
       "      <td>NaN</td>\n",
       "      <td>NaN</td>\n",
       "      <td>NaN</td>\n",
       "      <td>https://twitter.com/dog_rates/status/668274247...</td>\n",
       "      <td>10</td>\n",
       "      <td>10</td>\n",
       "      <td>Sophie</td>\n",
       "      <td>None</td>\n",
       "      <td>None</td>\n",
       "      <td>None</td>\n",
       "      <td>None</td>\n",
       "    </tr>\n",
       "    <tr>\n",
       "      <th>397</th>\n",
       "      <td>825120256414846976</td>\n",
       "      <td>NaN</td>\n",
       "      <td>NaN</td>\n",
       "      <td>2017-01-27 23:16:13 +0000</td>\n",
       "      <td>&lt;a href=\"http://twitter.com/download/iphone\" r...</td>\n",
       "      <td>RT @dog_rates: Say hello to Pablo. He's one go...</td>\n",
       "      <td>8.250266e+17</td>\n",
       "      <td>4.196984e+09</td>\n",
       "      <td>2017-01-27 17:04:02 +0000</td>\n",
       "      <td>https://www.gofundme.com/my-puppys-double-cata...</td>\n",
       "      <td>12</td>\n",
       "      <td>10</td>\n",
       "      <td>Pablo</td>\n",
       "      <td>None</td>\n",
       "      <td>None</td>\n",
       "      <td>None</td>\n",
       "      <td>puppo</td>\n",
       "    </tr>\n",
       "    <tr>\n",
       "      <th>2131</th>\n",
       "      <td>670086499208155136</td>\n",
       "      <td>NaN</td>\n",
       "      <td>NaN</td>\n",
       "      <td>2015-11-27 03:47:25 +0000</td>\n",
       "      <td>&lt;a href=\"http://twitter.com/download/iphone\" r...</td>\n",
       "      <td>\"Hi yes this is dog. I can't help with that s-...</td>\n",
       "      <td>NaN</td>\n",
       "      <td>NaN</td>\n",
       "      <td>NaN</td>\n",
       "      <td>https://twitter.com/dog_rates/status/670086499...</td>\n",
       "      <td>10</td>\n",
       "      <td>10</td>\n",
       "      <td>None</td>\n",
       "      <td>None</td>\n",
       "      <td>None</td>\n",
       "      <td>None</td>\n",
       "      <td>None</td>\n",
       "    </tr>\n",
       "    <tr>\n",
       "      <th>772</th>\n",
       "      <td>776477788987613185</td>\n",
       "      <td>NaN</td>\n",
       "      <td>NaN</td>\n",
       "      <td>2016-09-15 17:48:25 +0000</td>\n",
       "      <td>&lt;a href=\"http://twitter.com/download/iphone\" r...</td>\n",
       "      <td>This is Huck. He's addicted to caffeine. Hope ...</td>\n",
       "      <td>NaN</td>\n",
       "      <td>NaN</td>\n",
       "      <td>NaN</td>\n",
       "      <td>https://twitter.com/dog_rates/status/776477788...</td>\n",
       "      <td>11</td>\n",
       "      <td>10</td>\n",
       "      <td>Huck</td>\n",
       "      <td>None</td>\n",
       "      <td>None</td>\n",
       "      <td>pupper</td>\n",
       "      <td>None</td>\n",
       "    </tr>\n",
       "    <tr>\n",
       "      <th>386</th>\n",
       "      <td>826615380357632002</td>\n",
       "      <td>NaN</td>\n",
       "      <td>NaN</td>\n",
       "      <td>2017-02-01 02:17:19 +0000</td>\n",
       "      <td>&lt;a href=\"http://twitter.com/download/iphone\" r...</td>\n",
       "      <td>RT @dog_rates: Please only send in dogs. We on...</td>\n",
       "      <td>8.099208e+17</td>\n",
       "      <td>4.196984e+09</td>\n",
       "      <td>2016-12-17 00:38:52 +0000</td>\n",
       "      <td>https://twitter.com/dog_rates/status/809920764...</td>\n",
       "      <td>10</td>\n",
       "      <td>10</td>\n",
       "      <td>None</td>\n",
       "      <td>None</td>\n",
       "      <td>None</td>\n",
       "      <td>None</td>\n",
       "      <td>None</td>\n",
       "    </tr>\n",
       "  </tbody>\n",
       "</table>\n",
       "</div>"
      ],
      "text/plain": [
       "                tweet_id  in_reply_to_status_id  in_reply_to_user_id  \\\n",
       "2226  668274247790391296                    NaN                  NaN   \n",
       "397   825120256414846976                    NaN                  NaN   \n",
       "2131  670086499208155136                    NaN                  NaN   \n",
       "772   776477788987613185                    NaN                  NaN   \n",
       "386   826615380357632002                    NaN                  NaN   \n",
       "\n",
       "                      timestamp  \\\n",
       "2226  2015-11-22 03:46:11 +0000   \n",
       "397   2017-01-27 23:16:13 +0000   \n",
       "2131  2015-11-27 03:47:25 +0000   \n",
       "772   2016-09-15 17:48:25 +0000   \n",
       "386   2017-02-01 02:17:19 +0000   \n",
       "\n",
       "                                                 source  \\\n",
       "2226  <a href=\"http://twitter.com/download/iphone\" r...   \n",
       "397   <a href=\"http://twitter.com/download/iphone\" r...   \n",
       "2131  <a href=\"http://twitter.com/download/iphone\" r...   \n",
       "772   <a href=\"http://twitter.com/download/iphone\" r...   \n",
       "386   <a href=\"http://twitter.com/download/iphone\" r...   \n",
       "\n",
       "                                                   text  retweeted_status_id  \\\n",
       "2226  Meet Sophie. Her son just got in the car to le...                  NaN   \n",
       "397   RT @dog_rates: Say hello to Pablo. He's one go...         8.250266e+17   \n",
       "2131  \"Hi yes this is dog. I can't help with that s-...                  NaN   \n",
       "772   This is Huck. He's addicted to caffeine. Hope ...                  NaN   \n",
       "386   RT @dog_rates: Please only send in dogs. We on...         8.099208e+17   \n",
       "\n",
       "      retweeted_status_user_id retweeted_status_timestamp  \\\n",
       "2226                       NaN                        NaN   \n",
       "397               4.196984e+09  2017-01-27 17:04:02 +0000   \n",
       "2131                       NaN                        NaN   \n",
       "772                        NaN                        NaN   \n",
       "386               4.196984e+09  2016-12-17 00:38:52 +0000   \n",
       "\n",
       "                                          expanded_urls  rating_numerator  \\\n",
       "2226  https://twitter.com/dog_rates/status/668274247...                10   \n",
       "397   https://www.gofundme.com/my-puppys-double-cata...                12   \n",
       "2131  https://twitter.com/dog_rates/status/670086499...                10   \n",
       "772   https://twitter.com/dog_rates/status/776477788...                11   \n",
       "386   https://twitter.com/dog_rates/status/809920764...                10   \n",
       "\n",
       "      rating_denominator    name doggo floofer  pupper  puppo  \n",
       "2226                  10  Sophie  None    None    None   None  \n",
       "397                   10   Pablo  None    None    None  puppo  \n",
       "2131                  10    None  None    None    None   None  \n",
       "772                   10    Huck  None    None  pupper   None  \n",
       "386                   10    None  None    None    None   None  "
      ]
     },
     "execution_count": 11,
     "metadata": {},
     "output_type": "execute_result"
    }
   ],
   "source": [
    "#checking for five random rows in the dataframe\n",
    "tweet_archive.sample(5)"
   ]
  },
  {
   "cell_type": "code",
   "execution_count": 12,
   "id": "33c63035",
   "metadata": {},
   "outputs": [
    {
     "data": {
      "text/plain": [
       "<a href=\"http://twitter.com/download/iphone\" rel=\"nofollow\">Twitter for iPhone</a>     2221\n",
       "<a href=\"http://vine.co\" rel=\"nofollow\">Vine - Make a Scene</a>                          91\n",
       "<a href=\"http://twitter.com\" rel=\"nofollow\">Twitter Web Client</a>                       33\n",
       "<a href=\"https://about.twitter.com/products/tweetdeck\" rel=\"nofollow\">TweetDeck</a>      11\n",
       "Name: source, dtype: int64"
      ]
     },
     "execution_count": 12,
     "metadata": {},
     "output_type": "execute_result"
    }
   ],
   "source": [
    "#checking the unique values and their counts\n",
    "tweet_archive.source.value_counts()"
   ]
  },
  {
   "cell_type": "code",
   "execution_count": 13,
   "id": "145524e7",
   "metadata": {},
   "outputs": [
    {
     "data": {
      "text/plain": [
       "0"
      ]
     },
     "execution_count": 13,
     "metadata": {},
     "output_type": "execute_result"
    }
   ],
   "source": [
    "#checking for duplicated tweet id\n",
    "tweet_archive.tweet_id.duplicated().sum()"
   ]
  },
  {
   "cell_type": "code",
   "execution_count": 14,
   "id": "afa26e47",
   "metadata": {},
   "outputs": [
    {
     "data": {
      "text/html": [
       "<div>\n",
       "<style scoped>\n",
       "    .dataframe tbody tr th:only-of-type {\n",
       "        vertical-align: middle;\n",
       "    }\n",
       "\n",
       "    .dataframe tbody tr th {\n",
       "        vertical-align: top;\n",
       "    }\n",
       "\n",
       "    .dataframe thead th {\n",
       "        text-align: right;\n",
       "    }\n",
       "</style>\n",
       "<table border=\"1\" class=\"dataframe\">\n",
       "  <thead>\n",
       "    <tr style=\"text-align: right;\">\n",
       "      <th></th>\n",
       "      <th>tweet_id</th>\n",
       "      <th>in_reply_to_status_id</th>\n",
       "      <th>in_reply_to_user_id</th>\n",
       "      <th>timestamp</th>\n",
       "      <th>source</th>\n",
       "      <th>text</th>\n",
       "      <th>retweeted_status_id</th>\n",
       "      <th>retweeted_status_user_id</th>\n",
       "      <th>retweeted_status_timestamp</th>\n",
       "      <th>expanded_urls</th>\n",
       "      <th>rating_numerator</th>\n",
       "      <th>rating_denominator</th>\n",
       "      <th>name</th>\n",
       "      <th>doggo</th>\n",
       "      <th>floofer</th>\n",
       "      <th>pupper</th>\n",
       "      <th>puppo</th>\n",
       "    </tr>\n",
       "  </thead>\n",
       "  <tbody>\n",
       "    <tr>\n",
       "      <th>45</th>\n",
       "      <td>883482846933004288</td>\n",
       "      <td>NaN</td>\n",
       "      <td>NaN</td>\n",
       "      <td>2017-07-08 00:28:19 +0000</td>\n",
       "      <td>&lt;a href=\"http://twitter.com/download/iphone\" r...</td>\n",
       "      <td>This is Bella. She hopes her smile made you sm...</td>\n",
       "      <td>NaN</td>\n",
       "      <td>NaN</td>\n",
       "      <td>NaN</td>\n",
       "      <td>https://twitter.com/dog_rates/status/883482846...</td>\n",
       "      <td>5</td>\n",
       "      <td>10</td>\n",
       "      <td>Bella</td>\n",
       "      <td>None</td>\n",
       "      <td>None</td>\n",
       "      <td>None</td>\n",
       "      <td>None</td>\n",
       "    </tr>\n",
       "    <tr>\n",
       "      <th>113</th>\n",
       "      <td>870726314365509632</td>\n",
       "      <td>8.707262e+17</td>\n",
       "      <td>16487760.0</td>\n",
       "      <td>2017-06-02 19:38:25 +0000</td>\n",
       "      <td>&lt;a href=\"http://twitter.com/download/iphone\" r...</td>\n",
       "      <td>@ComplicitOwl @ShopWeRateDogs &amp;gt;10/10 is res...</td>\n",
       "      <td>NaN</td>\n",
       "      <td>NaN</td>\n",
       "      <td>NaN</td>\n",
       "      <td>NaN</td>\n",
       "      <td>10</td>\n",
       "      <td>10</td>\n",
       "      <td>None</td>\n",
       "      <td>None</td>\n",
       "      <td>None</td>\n",
       "      <td>None</td>\n",
       "      <td>None</td>\n",
       "    </tr>\n",
       "    <tr>\n",
       "      <th>165</th>\n",
       "      <td>860177593139703809</td>\n",
       "      <td>NaN</td>\n",
       "      <td>NaN</td>\n",
       "      <td>2017-05-04 17:01:34 +0000</td>\n",
       "      <td>&lt;a href=\"http://twitter.com/download/iphone\" r...</td>\n",
       "      <td>RT @dog_rates: Ohboyohboyohboyohboyohboyohboyo...</td>\n",
       "      <td>7.616730e+17</td>\n",
       "      <td>4.196984e+09</td>\n",
       "      <td>2016-08-05 21:19:27 +0000</td>\n",
       "      <td>https://twitter.com/dog_rates/status/761672994...</td>\n",
       "      <td>10</td>\n",
       "      <td>10</td>\n",
       "      <td>None</td>\n",
       "      <td>None</td>\n",
       "      <td>None</td>\n",
       "      <td>None</td>\n",
       "      <td>None</td>\n",
       "    </tr>\n",
       "    <tr>\n",
       "      <th>212</th>\n",
       "      <td>851861385021730816</td>\n",
       "      <td>NaN</td>\n",
       "      <td>NaN</td>\n",
       "      <td>2017-04-11 18:15:55 +0000</td>\n",
       "      <td>&lt;a href=\"http://twitter.com/download/iphone\" r...</td>\n",
       "      <td>RT @eddie_coe98: Thanks @dog_rates completed m...</td>\n",
       "      <td>8.482894e+17</td>\n",
       "      <td>3.410211e+08</td>\n",
       "      <td>2017-04-01 21:42:03 +0000</td>\n",
       "      <td>https://twitter.com/eddie_coe98/status/8482893...</td>\n",
       "      <td>10</td>\n",
       "      <td>10</td>\n",
       "      <td>None</td>\n",
       "      <td>None</td>\n",
       "      <td>None</td>\n",
       "      <td>None</td>\n",
       "      <td>None</td>\n",
       "    </tr>\n",
       "    <tr>\n",
       "      <th>229</th>\n",
       "      <td>848212111729840128</td>\n",
       "      <td>NaN</td>\n",
       "      <td>NaN</td>\n",
       "      <td>2017-04-01 16:35:01 +0000</td>\n",
       "      <td>&lt;a href=\"http://twitter.com/download/iphone\" r...</td>\n",
       "      <td>This is Jerry. He's doing a distinguished tong...</td>\n",
       "      <td>NaN</td>\n",
       "      <td>NaN</td>\n",
       "      <td>NaN</td>\n",
       "      <td>https://twitter.com/dog_rates/status/848212111...</td>\n",
       "      <td>6</td>\n",
       "      <td>10</td>\n",
       "      <td>Jerry</td>\n",
       "      <td>None</td>\n",
       "      <td>None</td>\n",
       "      <td>None</td>\n",
       "      <td>None</td>\n",
       "    </tr>\n",
       "    <tr>\n",
       "      <th>...</th>\n",
       "      <td>...</td>\n",
       "      <td>...</td>\n",
       "      <td>...</td>\n",
       "      <td>...</td>\n",
       "      <td>...</td>\n",
       "      <td>...</td>\n",
       "      <td>...</td>\n",
       "      <td>...</td>\n",
       "      <td>...</td>\n",
       "      <td>...</td>\n",
       "      <td>...</td>\n",
       "      <td>...</td>\n",
       "      <td>...</td>\n",
       "      <td>...</td>\n",
       "      <td>...</td>\n",
       "      <td>...</td>\n",
       "      <td>...</td>\n",
       "    </tr>\n",
       "    <tr>\n",
       "      <th>2351</th>\n",
       "      <td>666049248165822465</td>\n",
       "      <td>NaN</td>\n",
       "      <td>NaN</td>\n",
       "      <td>2015-11-16 00:24:50 +0000</td>\n",
       "      <td>&lt;a href=\"http://twitter.com/download/iphone\" r...</td>\n",
       "      <td>Here we have a 1949 1st generation vulpix. Enj...</td>\n",
       "      <td>NaN</td>\n",
       "      <td>NaN</td>\n",
       "      <td>NaN</td>\n",
       "      <td>https://twitter.com/dog_rates/status/666049248...</td>\n",
       "      <td>5</td>\n",
       "      <td>10</td>\n",
       "      <td>None</td>\n",
       "      <td>None</td>\n",
       "      <td>None</td>\n",
       "      <td>None</td>\n",
       "      <td>None</td>\n",
       "    </tr>\n",
       "    <tr>\n",
       "      <th>2352</th>\n",
       "      <td>666044226329800704</td>\n",
       "      <td>NaN</td>\n",
       "      <td>NaN</td>\n",
       "      <td>2015-11-16 00:04:52 +0000</td>\n",
       "      <td>&lt;a href=\"http://twitter.com/download/iphone\" r...</td>\n",
       "      <td>This is a purebred Piers Morgan. Loves to Netf...</td>\n",
       "      <td>NaN</td>\n",
       "      <td>NaN</td>\n",
       "      <td>NaN</td>\n",
       "      <td>https://twitter.com/dog_rates/status/666044226...</td>\n",
       "      <td>6</td>\n",
       "      <td>10</td>\n",
       "      <td>a</td>\n",
       "      <td>None</td>\n",
       "      <td>None</td>\n",
       "      <td>None</td>\n",
       "      <td>None</td>\n",
       "    </tr>\n",
       "    <tr>\n",
       "      <th>2353</th>\n",
       "      <td>666033412701032449</td>\n",
       "      <td>NaN</td>\n",
       "      <td>NaN</td>\n",
       "      <td>2015-11-15 23:21:54 +0000</td>\n",
       "      <td>&lt;a href=\"http://twitter.com/download/iphone\" r...</td>\n",
       "      <td>Here is a very happy pup. Big fan of well-main...</td>\n",
       "      <td>NaN</td>\n",
       "      <td>NaN</td>\n",
       "      <td>NaN</td>\n",
       "      <td>https://twitter.com/dog_rates/status/666033412...</td>\n",
       "      <td>9</td>\n",
       "      <td>10</td>\n",
       "      <td>a</td>\n",
       "      <td>None</td>\n",
       "      <td>None</td>\n",
       "      <td>None</td>\n",
       "      <td>None</td>\n",
       "    </tr>\n",
       "    <tr>\n",
       "      <th>2354</th>\n",
       "      <td>666029285002620928</td>\n",
       "      <td>NaN</td>\n",
       "      <td>NaN</td>\n",
       "      <td>2015-11-15 23:05:30 +0000</td>\n",
       "      <td>&lt;a href=\"http://twitter.com/download/iphone\" r...</td>\n",
       "      <td>This is a western brown Mitsubishi terrier. Up...</td>\n",
       "      <td>NaN</td>\n",
       "      <td>NaN</td>\n",
       "      <td>NaN</td>\n",
       "      <td>https://twitter.com/dog_rates/status/666029285...</td>\n",
       "      <td>7</td>\n",
       "      <td>10</td>\n",
       "      <td>a</td>\n",
       "      <td>None</td>\n",
       "      <td>None</td>\n",
       "      <td>None</td>\n",
       "      <td>None</td>\n",
       "    </tr>\n",
       "    <tr>\n",
       "      <th>2355</th>\n",
       "      <td>666020888022790149</td>\n",
       "      <td>NaN</td>\n",
       "      <td>NaN</td>\n",
       "      <td>2015-11-15 22:32:08 +0000</td>\n",
       "      <td>&lt;a href=\"http://twitter.com/download/iphone\" r...</td>\n",
       "      <td>Here we have a Japanese Irish Setter. Lost eye...</td>\n",
       "      <td>NaN</td>\n",
       "      <td>NaN</td>\n",
       "      <td>NaN</td>\n",
       "      <td>https://twitter.com/dog_rates/status/666020888...</td>\n",
       "      <td>8</td>\n",
       "      <td>10</td>\n",
       "      <td>None</td>\n",
       "      <td>None</td>\n",
       "      <td>None</td>\n",
       "      <td>None</td>\n",
       "      <td>None</td>\n",
       "    </tr>\n",
       "  </tbody>\n",
       "</table>\n",
       "<p>901 rows × 17 columns</p>\n",
       "</div>"
      ],
      "text/plain": [
       "                tweet_id  in_reply_to_status_id  in_reply_to_user_id  \\\n",
       "45    883482846933004288                    NaN                  NaN   \n",
       "113   870726314365509632           8.707262e+17           16487760.0   \n",
       "165   860177593139703809                    NaN                  NaN   \n",
       "212   851861385021730816                    NaN                  NaN   \n",
       "229   848212111729840128                    NaN                  NaN   \n",
       "...                  ...                    ...                  ...   \n",
       "2351  666049248165822465                    NaN                  NaN   \n",
       "2352  666044226329800704                    NaN                  NaN   \n",
       "2353  666033412701032449                    NaN                  NaN   \n",
       "2354  666029285002620928                    NaN                  NaN   \n",
       "2355  666020888022790149                    NaN                  NaN   \n",
       "\n",
       "                      timestamp  \\\n",
       "45    2017-07-08 00:28:19 +0000   \n",
       "113   2017-06-02 19:38:25 +0000   \n",
       "165   2017-05-04 17:01:34 +0000   \n",
       "212   2017-04-11 18:15:55 +0000   \n",
       "229   2017-04-01 16:35:01 +0000   \n",
       "...                         ...   \n",
       "2351  2015-11-16 00:24:50 +0000   \n",
       "2352  2015-11-16 00:04:52 +0000   \n",
       "2353  2015-11-15 23:21:54 +0000   \n",
       "2354  2015-11-15 23:05:30 +0000   \n",
       "2355  2015-11-15 22:32:08 +0000   \n",
       "\n",
       "                                                 source  \\\n",
       "45    <a href=\"http://twitter.com/download/iphone\" r...   \n",
       "113   <a href=\"http://twitter.com/download/iphone\" r...   \n",
       "165   <a href=\"http://twitter.com/download/iphone\" r...   \n",
       "212   <a href=\"http://twitter.com/download/iphone\" r...   \n",
       "229   <a href=\"http://twitter.com/download/iphone\" r...   \n",
       "...                                                 ...   \n",
       "2351  <a href=\"http://twitter.com/download/iphone\" r...   \n",
       "2352  <a href=\"http://twitter.com/download/iphone\" r...   \n",
       "2353  <a href=\"http://twitter.com/download/iphone\" r...   \n",
       "2354  <a href=\"http://twitter.com/download/iphone\" r...   \n",
       "2355  <a href=\"http://twitter.com/download/iphone\" r...   \n",
       "\n",
       "                                                   text  retweeted_status_id  \\\n",
       "45    This is Bella. She hopes her smile made you sm...                  NaN   \n",
       "113   @ComplicitOwl @ShopWeRateDogs &gt;10/10 is res...                  NaN   \n",
       "165   RT @dog_rates: Ohboyohboyohboyohboyohboyohboyo...         7.616730e+17   \n",
       "212   RT @eddie_coe98: Thanks @dog_rates completed m...         8.482894e+17   \n",
       "229   This is Jerry. He's doing a distinguished tong...                  NaN   \n",
       "...                                                 ...                  ...   \n",
       "2351  Here we have a 1949 1st generation vulpix. Enj...                  NaN   \n",
       "2352  This is a purebred Piers Morgan. Loves to Netf...                  NaN   \n",
       "2353  Here is a very happy pup. Big fan of well-main...                  NaN   \n",
       "2354  This is a western brown Mitsubishi terrier. Up...                  NaN   \n",
       "2355  Here we have a Japanese Irish Setter. Lost eye...                  NaN   \n",
       "\n",
       "      retweeted_status_user_id retweeted_status_timestamp  \\\n",
       "45                         NaN                        NaN   \n",
       "113                        NaN                        NaN   \n",
       "165               4.196984e+09  2016-08-05 21:19:27 +0000   \n",
       "212               3.410211e+08  2017-04-01 21:42:03 +0000   \n",
       "229                        NaN                        NaN   \n",
       "...                        ...                        ...   \n",
       "2351                       NaN                        NaN   \n",
       "2352                       NaN                        NaN   \n",
       "2353                       NaN                        NaN   \n",
       "2354                       NaN                        NaN   \n",
       "2355                       NaN                        NaN   \n",
       "\n",
       "                                          expanded_urls  rating_numerator  \\\n",
       "45    https://twitter.com/dog_rates/status/883482846...                 5   \n",
       "113                                                 NaN                10   \n",
       "165   https://twitter.com/dog_rates/status/761672994...                10   \n",
       "212   https://twitter.com/eddie_coe98/status/8482893...                10   \n",
       "229   https://twitter.com/dog_rates/status/848212111...                 6   \n",
       "...                                                 ...               ...   \n",
       "2351  https://twitter.com/dog_rates/status/666049248...                 5   \n",
       "2352  https://twitter.com/dog_rates/status/666044226...                 6   \n",
       "2353  https://twitter.com/dog_rates/status/666033412...                 9   \n",
       "2354  https://twitter.com/dog_rates/status/666029285...                 7   \n",
       "2355  https://twitter.com/dog_rates/status/666020888...                 8   \n",
       "\n",
       "      rating_denominator   name doggo floofer pupper puppo  \n",
       "45                    10  Bella  None    None   None  None  \n",
       "113                   10   None  None    None   None  None  \n",
       "165                   10   None  None    None   None  None  \n",
       "212                   10   None  None    None   None  None  \n",
       "229                   10  Jerry  None    None   None  None  \n",
       "...                  ...    ...   ...     ...    ...   ...  \n",
       "2351                  10   None  None    None   None  None  \n",
       "2352                  10      a  None    None   None  None  \n",
       "2353                  10      a  None    None   None  None  \n",
       "2354                  10      a  None    None   None  None  \n",
       "2355                  10   None  None    None   None  None  \n",
       "\n",
       "[901 rows x 17 columns]"
      ]
     },
     "execution_count": 14,
     "metadata": {},
     "output_type": "execute_result"
    }
   ],
   "source": [
    "#checking for rows with rating numerator less than 10\n",
    "tweet_archive.query('rating_numerator <= 10')"
   ]
  },
  {
   "cell_type": "code",
   "execution_count": 15,
   "id": "65d6a579",
   "metadata": {},
   "outputs": [
    {
     "data": {
      "text/plain": [
       "0"
      ]
     },
     "execution_count": 15,
     "metadata": {},
     "output_type": "execute_result"
    }
   ],
   "source": [
    "#checking for duplicated rows in the tweet archive table\n",
    "tweet_archive.duplicated().sum()"
   ]
  },
  {
   "cell_type": "code",
   "execution_count": 16,
   "id": "5fe70cba",
   "metadata": {},
   "outputs": [
    {
     "name": "stdout",
     "output_type": "stream",
     "text": [
      "<class 'pandas.core.frame.DataFrame'>\n",
      "RangeIndex: 2075 entries, 0 to 2074\n",
      "Data columns (total 12 columns):\n",
      " #   Column    Non-Null Count  Dtype  \n",
      "---  ------    --------------  -----  \n",
      " 0   tweet_id  2075 non-null   int64  \n",
      " 1   jpg_url   2075 non-null   object \n",
      " 2   img_num   2075 non-null   int64  \n",
      " 3   p1        2075 non-null   object \n",
      " 4   p1_conf   2075 non-null   float64\n",
      " 5   p1_dog    2075 non-null   bool   \n",
      " 6   p2        2075 non-null   object \n",
      " 7   p2_conf   2075 non-null   float64\n",
      " 8   p2_dog    2075 non-null   bool   \n",
      " 9   p3        2075 non-null   object \n",
      " 10  p3_conf   2075 non-null   float64\n",
      " 11  p3_dog    2075 non-null   bool   \n",
      "dtypes: bool(3), float64(3), int64(2), object(4)\n",
      "memory usage: 152.1+ KB\n"
     ]
    }
   ],
   "source": [
    "#checking for nulls and datatypes in the image table columns\n",
    "image.info()"
   ]
  },
  {
   "cell_type": "code",
   "execution_count": 17,
   "id": "e731810a",
   "metadata": {},
   "outputs": [
    {
     "data": {
      "text/plain": [
       "0"
      ]
     },
     "execution_count": 17,
     "metadata": {},
     "output_type": "execute_result"
    }
   ],
   "source": [
    "#checking for duplicates in the image table\n",
    "image.duplicated().sum()"
   ]
  },
  {
   "cell_type": "code",
   "execution_count": 18,
   "id": "2d58d916",
   "metadata": {},
   "outputs": [
    {
     "name": "stdout",
     "output_type": "stream",
     "text": [
      "<class 'pandas.core.frame.DataFrame'>\n",
      "RangeIndex: 2354 entries, 0 to 2353\n",
      "Data columns (total 3 columns):\n",
      " #   Column          Non-Null Count  Dtype\n",
      "---  ------          --------------  -----\n",
      " 0   id              2354 non-null   int64\n",
      " 1   retweet_count   2354 non-null   int64\n",
      " 2   favorite_count  2354 non-null   int64\n",
      "dtypes: int64(3)\n",
      "memory usage: 55.3 KB\n"
     ]
    }
   ],
   "source": [
    "#checking for nulls and datatypes in the image table columns\n",
    "retweets.info()"
   ]
  },
  {
   "cell_type": "markdown",
   "id": "96afa2ee",
   "metadata": {},
   "source": [
    "#### Quality\n",
    "##### `tweets_archive` table\n",
    "- Wrong datatype for timestamp\n",
    "- Nulls represented by none in name, doggo, floofer, pupper and puppo columns\n",
    "- Repetitive +0000 in timestamp\n",
    "- Values in rating numerator less than or way higher than 10\n",
    "- some tweets were retweeted\n",
    "- Missing values in in reply to status id and in reply to user id columns\n",
    "- Repetitve words in source column\n",
    "- Potential Typographical error in dog names (Jessiga, Petrick, Sampson, Clarq)\n",
    "- Rows beyond August 1st, 2017 not needed\n",
    "- Rating denominator is a constant 10 also the text and expanded url columns are not needed in the analysis \n",
    "\n",
    "\n",
    "\n",
    "\n",
    "\n",
    "\n",
    "##### `retweets` table\n",
    "- id instead of tweet_id"
   ]
  },
  {
   "cell_type": "markdown",
   "id": "802cbe1f",
   "metadata": {},
   "source": [
    "#### Tidiness\n",
    "- The three table should be in one dataframe\n",
    "- In the text column the gender of the dog was indicated in tweet_archive table\n",
    "- Doggo, floofer, pupper and puppo columns should be one coulmn\n",
    "- The p1, p1_conf, p1_dog, p2, p2_conf, p2_dog, p3, p3_conf, p3_dog column shoould be merge into two columns\n",
    "- Original ratings with no image"
   ]
  },
  {
   "cell_type": "markdown",
   "id": "d71f59b5",
   "metadata": {},
   "source": [
    "<a id='clean'></a>\n",
    "## Cleaning Data"
   ]
  },
  {
   "cell_type": "code",
   "execution_count": 19,
   "id": "9adb7a28",
   "metadata": {},
   "outputs": [],
   "source": [
    "#creating a copy of the unclean dataframes before cleaning\n",
    "tweet_archive_clean = tweet_archive.copy()\n",
    "image_clean = image.copy()\n",
    "retweets_clean = retweets.copy()"
   ]
  },
  {
   "cell_type": "markdown",
   "id": "b8e330a7",
   "metadata": {},
   "source": [
    "### Quality\n",
    "### Tweet_archive Table"
   ]
  },
  {
   "cell_type": "markdown",
   "id": "c2d4c725",
   "metadata": {},
   "source": [
    "### Issue 1\n",
    "Nulls represented by none in name, doggo, floofer, pupper and puppo columns"
   ]
  },
  {
   "cell_type": "markdown",
   "id": "0cc5e0df",
   "metadata": {},
   "source": [
    "#### Define\n",
    "Replace the none values in with name, doggo, floofer, pupper and puppo columns NaN"
   ]
  },
  {
   "cell_type": "markdown",
   "id": "59cd0e78",
   "metadata": {},
   "source": [
    "#### Code"
   ]
  },
  {
   "cell_type": "code",
   "execution_count": 20,
   "id": "c1c352eb",
   "metadata": {},
   "outputs": [],
   "source": [
    "tweet_archive_clean[['name', 'doggo', 'floofer', 'pupper', 'puppo']] = tweet_archive_clean[['name', 'doggo', 'floofer', 'pupper', 'puppo']].replace('None', np.NaN)"
   ]
  },
  {
   "cell_type": "markdown",
   "id": "a6e7aece",
   "metadata": {},
   "source": [
    "#### Test"
   ]
  },
  {
   "cell_type": "code",
   "execution_count": 21,
   "id": "f06cdf28",
   "metadata": {},
   "outputs": [
    {
     "data": {
      "text/html": [
       "<div>\n",
       "<style scoped>\n",
       "    .dataframe tbody tr th:only-of-type {\n",
       "        vertical-align: middle;\n",
       "    }\n",
       "\n",
       "    .dataframe tbody tr th {\n",
       "        vertical-align: top;\n",
       "    }\n",
       "\n",
       "    .dataframe thead th {\n",
       "        text-align: right;\n",
       "    }\n",
       "</style>\n",
       "<table border=\"1\" class=\"dataframe\">\n",
       "  <thead>\n",
       "    <tr style=\"text-align: right;\">\n",
       "      <th></th>\n",
       "      <th>name</th>\n",
       "      <th>doggo</th>\n",
       "      <th>floofer</th>\n",
       "      <th>pupper</th>\n",
       "      <th>puppo</th>\n",
       "    </tr>\n",
       "  </thead>\n",
       "  <tbody>\n",
       "    <tr>\n",
       "      <th>0</th>\n",
       "      <td>False</td>\n",
       "      <td>False</td>\n",
       "      <td>False</td>\n",
       "      <td>False</td>\n",
       "      <td>False</td>\n",
       "    </tr>\n",
       "    <tr>\n",
       "      <th>1</th>\n",
       "      <td>False</td>\n",
       "      <td>False</td>\n",
       "      <td>False</td>\n",
       "      <td>False</td>\n",
       "      <td>False</td>\n",
       "    </tr>\n",
       "    <tr>\n",
       "      <th>2</th>\n",
       "      <td>False</td>\n",
       "      <td>False</td>\n",
       "      <td>False</td>\n",
       "      <td>False</td>\n",
       "      <td>False</td>\n",
       "    </tr>\n",
       "    <tr>\n",
       "      <th>3</th>\n",
       "      <td>False</td>\n",
       "      <td>False</td>\n",
       "      <td>False</td>\n",
       "      <td>False</td>\n",
       "      <td>False</td>\n",
       "    </tr>\n",
       "    <tr>\n",
       "      <th>4</th>\n",
       "      <td>False</td>\n",
       "      <td>False</td>\n",
       "      <td>False</td>\n",
       "      <td>False</td>\n",
       "      <td>False</td>\n",
       "    </tr>\n",
       "    <tr>\n",
       "      <th>...</th>\n",
       "      <td>...</td>\n",
       "      <td>...</td>\n",
       "      <td>...</td>\n",
       "      <td>...</td>\n",
       "      <td>...</td>\n",
       "    </tr>\n",
       "    <tr>\n",
       "      <th>2351</th>\n",
       "      <td>False</td>\n",
       "      <td>False</td>\n",
       "      <td>False</td>\n",
       "      <td>False</td>\n",
       "      <td>False</td>\n",
       "    </tr>\n",
       "    <tr>\n",
       "      <th>2352</th>\n",
       "      <td>False</td>\n",
       "      <td>False</td>\n",
       "      <td>False</td>\n",
       "      <td>False</td>\n",
       "      <td>False</td>\n",
       "    </tr>\n",
       "    <tr>\n",
       "      <th>2353</th>\n",
       "      <td>False</td>\n",
       "      <td>False</td>\n",
       "      <td>False</td>\n",
       "      <td>False</td>\n",
       "      <td>False</td>\n",
       "    </tr>\n",
       "    <tr>\n",
       "      <th>2354</th>\n",
       "      <td>False</td>\n",
       "      <td>False</td>\n",
       "      <td>False</td>\n",
       "      <td>False</td>\n",
       "      <td>False</td>\n",
       "    </tr>\n",
       "    <tr>\n",
       "      <th>2355</th>\n",
       "      <td>False</td>\n",
       "      <td>False</td>\n",
       "      <td>False</td>\n",
       "      <td>False</td>\n",
       "      <td>False</td>\n",
       "    </tr>\n",
       "  </tbody>\n",
       "</table>\n",
       "<p>2356 rows × 5 columns</p>\n",
       "</div>"
      ],
      "text/plain": [
       "       name  doggo  floofer  pupper  puppo\n",
       "0     False  False    False   False  False\n",
       "1     False  False    False   False  False\n",
       "2     False  False    False   False  False\n",
       "3     False  False    False   False  False\n",
       "4     False  False    False   False  False\n",
       "...     ...    ...      ...     ...    ...\n",
       "2351  False  False    False   False  False\n",
       "2352  False  False    False   False  False\n",
       "2353  False  False    False   False  False\n",
       "2354  False  False    False   False  False\n",
       "2355  False  False    False   False  False\n",
       "\n",
       "[2356 rows x 5 columns]"
      ]
     },
     "execution_count": 21,
     "metadata": {},
     "output_type": "execute_result"
    }
   ],
   "source": [
    "#checking the for none values in the columns\n",
    "tweet_archive_clean.loc[:, ['name', 'doggo', 'floofer', 'pupper', 'puppo']].isin(['None'])"
   ]
  },
  {
   "cell_type": "markdown",
   "id": "7a32e94a",
   "metadata": {},
   "source": [
    "### Issue 2\n",
    "Repetitive +0000 in timestamp"
   ]
  },
  {
   "cell_type": "markdown",
   "id": "df914254",
   "metadata": {},
   "source": [
    "#### Define\n",
    "Remove +0000 in the timestamp column"
   ]
  },
  {
   "cell_type": "markdown",
   "id": "9aaea07c",
   "metadata": {},
   "source": [
    "#### Code"
   ]
  },
  {
   "cell_type": "code",
   "execution_count": 22,
   "id": "1f9ae8fa",
   "metadata": {},
   "outputs": [],
   "source": [
    "tweet_archive_clean['timestamp'] = tweet_archive_clean['timestamp'].str.strip('+0')"
   ]
  },
  {
   "cell_type": "markdown",
   "id": "6ac96a80",
   "metadata": {},
   "source": [
    "#### Test"
   ]
  },
  {
   "cell_type": "code",
   "execution_count": 23,
   "id": "e88a55ad",
   "metadata": {},
   "outputs": [
    {
     "data": {
      "text/plain": [
       "0       2017-08-01 16:23:56 \n",
       "1       2017-08-01 00:17:27 \n",
       "2       2017-07-31 00:18:03 \n",
       "3       2017-07-30 15:58:51 \n",
       "4       2017-07-29 16:00:24 \n",
       "                ...         \n",
       "2351    2015-11-16 00:24:50 \n",
       "2352    2015-11-16 00:04:52 \n",
       "2353    2015-11-15 23:21:54 \n",
       "2354    2015-11-15 23:05:30 \n",
       "2355    2015-11-15 22:32:08 \n",
       "Name: timestamp, Length: 2356, dtype: object"
      ]
     },
     "execution_count": 23,
     "metadata": {},
     "output_type": "execute_result"
    }
   ],
   "source": [
    "#checking for +0000 in the timestamp column\n",
    "tweet_archive_clean['timestamp']"
   ]
  },
  {
   "cell_type": "markdown",
   "id": "ec6d7ffc",
   "metadata": {},
   "source": [
    "### Issue 3\n",
    "Wrong datatype for timestamp"
   ]
  },
  {
   "cell_type": "markdown",
   "id": "6c6395a0",
   "metadata": {},
   "source": [
    "#### Define\n",
    "Change the timestamp datatype from string to datetime"
   ]
  },
  {
   "cell_type": "markdown",
   "id": "058b0ae3",
   "metadata": {},
   "source": [
    "#### Code"
   ]
  },
  {
   "cell_type": "code",
   "execution_count": 24,
   "id": "32f97e04",
   "metadata": {},
   "outputs": [],
   "source": [
    "tweet_archive_clean['timestamp'] = pd.to_datetime(tweet_archive_clean['timestamp'])"
   ]
  },
  {
   "cell_type": "markdown",
   "id": "887f69ff",
   "metadata": {},
   "source": [
    "#### Test"
   ]
  },
  {
   "cell_type": "code",
   "execution_count": 25,
   "id": "9c2b7787",
   "metadata": {},
   "outputs": [
    {
     "name": "stdout",
     "output_type": "stream",
     "text": [
      "<class 'pandas.core.frame.DataFrame'>\n",
      "RangeIndex: 2356 entries, 0 to 2355\n",
      "Data columns (total 1 columns):\n",
      " #   Column     Non-Null Count  Dtype         \n",
      "---  ------     --------------  -----         \n",
      " 0   timestamp  2356 non-null   datetime64[ns]\n",
      "dtypes: datetime64[ns](1)\n",
      "memory usage: 18.5 KB\n"
     ]
    }
   ],
   "source": [
    "#checking the timestamp column datatype\n",
    "tweet_archive_clean[['timestamp']].info()"
   ]
  },
  {
   "cell_type": "markdown",
   "id": "9afd0c0e",
   "metadata": {},
   "source": [
    "### Issue 4\n",
    "Values in ratings numerator less than or way higher than 10"
   ]
  },
  {
   "cell_type": "markdown",
   "id": "ce052287",
   "metadata": {},
   "source": [
    "#### Define\n",
    "filter rows with rating numerator less than or way higher than  10 out\n"
   ]
  },
  {
   "cell_type": "markdown",
   "id": "428a2e0d",
   "metadata": {},
   "source": [
    "#### Code"
   ]
  },
  {
   "cell_type": "code",
   "execution_count": 26,
   "id": "d8fe8cab",
   "metadata": {},
   "outputs": [],
   "source": [
    "tweet_archive_clean = tweet_archive_clean.query('20 > rating_numerator > 10')"
   ]
  },
  {
   "cell_type": "markdown",
   "id": "050fd293",
   "metadata": {},
   "source": [
    "#### Test"
   ]
  },
  {
   "cell_type": "code",
   "execution_count": 27,
   "id": "8e009235",
   "metadata": {},
   "outputs": [
    {
     "data": {
      "text/plain": [
       "12    558\n",
       "11    464\n",
       "13    351\n",
       "14     54\n",
       "15      2\n",
       "17      1\n",
       "Name: rating_numerator, dtype: int64"
      ]
     },
     "execution_count": 27,
     "metadata": {},
     "output_type": "execute_result"
    }
   ],
   "source": [
    "tweet_archive_clean.rating_numerator.value_counts()"
   ]
  },
  {
   "cell_type": "markdown",
   "id": "47534050",
   "metadata": {},
   "source": [
    "### Issue 5\n",
    "Some tweets were retweeted "
   ]
  },
  {
   "cell_type": "markdown",
   "id": "ed9f996d",
   "metadata": {},
   "source": [
    "#### Define\n",
    "Drop rows with retweets and drop columns related to retweets"
   ]
  },
  {
   "cell_type": "markdown",
   "id": "519183b5",
   "metadata": {},
   "source": [
    "#### Code"
   ]
  },
  {
   "cell_type": "code",
   "execution_count": 28,
   "id": "9a91408d",
   "metadata": {},
   "outputs": [],
   "source": [
    "#remove retweets by filtering out the rows with values in retweeted_status_id\n",
    "tweet_archive_clean = tweet_archive_clean[tweet_archive_clean['retweeted_status_id'].isnull()]\n",
    "#remove the retweeted_status_id as the coulmn is empty\n",
    "tweet_archive_clean = tweet_archive_clean.drop(['retweeted_status_id', 'retweeted_status_user_id', 'retweeted_status_timestamp' ], axis = 1)"
   ]
  },
  {
   "cell_type": "markdown",
   "id": "59f3e89e",
   "metadata": {},
   "source": [
    "#### Test"
   ]
  },
  {
   "cell_type": "code",
   "execution_count": 29,
   "id": "4218b38b",
   "metadata": {},
   "outputs": [
    {
     "name": "stdout",
     "output_type": "stream",
     "text": [
      "<class 'pandas.core.frame.DataFrame'>\n",
      "Int64Index: 1278 entries, 0 to 2339\n",
      "Data columns (total 14 columns):\n",
      " #   Column                 Non-Null Count  Dtype         \n",
      "---  ------                 --------------  -----         \n",
      " 0   tweet_id               1278 non-null   int64         \n",
      " 1   in_reply_to_status_id  54 non-null     float64       \n",
      " 2   in_reply_to_user_id    54 non-null     float64       \n",
      " 3   timestamp              1278 non-null   datetime64[ns]\n",
      " 4   source                 1278 non-null   object        \n",
      " 5   text                   1278 non-null   object        \n",
      " 6   expanded_urls          1241 non-null   object        \n",
      " 7   rating_numerator       1278 non-null   int64         \n",
      " 8   rating_denominator     1278 non-null   int64         \n",
      " 9   name                   896 non-null    object        \n",
      " 10  doggo                  74 non-null     object        \n",
      " 11  floofer                9 non-null      object        \n",
      " 12  pupper                 140 non-null    object        \n",
      " 13  puppo                  21 non-null     object        \n",
      "dtypes: datetime64[ns](1), float64(2), int64(3), object(8)\n",
      "memory usage: 149.8+ KB\n"
     ]
    }
   ],
   "source": [
    "#checking for the dropped columns\n",
    "tweet_archive_clean.info()"
   ]
  },
  {
   "cell_type": "markdown",
   "id": "91923fe1",
   "metadata": {},
   "source": [
    "### Issue 6\n",
    "Missing values in reply to status id and in reply to user id columns"
   ]
  },
  {
   "cell_type": "markdown",
   "id": "d20e249f",
   "metadata": {},
   "source": [
    "##### Define\n",
    "Drop  in reply to status id and in reply to user id columns in the tweets_archive"
   ]
  },
  {
   "cell_type": "markdown",
   "id": "6450185b",
   "metadata": {},
   "source": [
    "##### Code"
   ]
  },
  {
   "cell_type": "code",
   "execution_count": 30,
   "id": "8492c802",
   "metadata": {},
   "outputs": [],
   "source": [
    "tweet_archive_clean.drop(['in_reply_to_user_id', 'in_reply_to_status_id'], axis = 1, inplace = True)"
   ]
  },
  {
   "cell_type": "markdown",
   "id": "1d8b373e",
   "metadata": {},
   "source": [
    "##### Test"
   ]
  },
  {
   "cell_type": "code",
   "execution_count": 31,
   "id": "92e12c4d",
   "metadata": {},
   "outputs": [
    {
     "data": {
      "text/plain": [
       "Index(['tweet_id', 'timestamp', 'source', 'text', 'expanded_urls',\n",
       "       'rating_numerator', 'rating_denominator', 'name', 'doggo', 'floofer',\n",
       "       'pupper', 'puppo'],\n",
       "      dtype='object')"
      ]
     },
     "execution_count": 31,
     "metadata": {},
     "output_type": "execute_result"
    }
   ],
   "source": [
    "#checking for the dropped columns\n",
    "tweet_archive_clean.columns"
   ]
  },
  {
   "cell_type": "markdown",
   "id": "05a5ad8b",
   "metadata": {},
   "source": [
    "### Issue 7\n",
    "Repetitve words in source column"
   ]
  },
  {
   "cell_type": "markdown",
   "id": "29383174",
   "metadata": {},
   "source": [
    "#### Define\n",
    "Extract the specific word needed in the source column to a new column and drop the source column.\n"
   ]
  },
  {
   "cell_type": "markdown",
   "id": "5446a81e",
   "metadata": {},
   "source": [
    "#### Code"
   ]
  },
  {
   "cell_type": "code",
   "execution_count": 32,
   "id": "cd776169",
   "metadata": {},
   "outputs": [],
   "source": [
    "specific_word = ['Twitter for iPhone', 'Vine - Make a Scene', 'Twitter Web Client', 'TweetDeck']\n",
    "pat = '|'.join(r\"\\b{}\\b\".format(x) for x in specific_word)\n",
    "tweet_archive_clean['sources'] = tweet_archive_clean['source'].str.findall(pat, flags=re.I).str.join(' ')\n",
    "tweet_archive_clean.drop('source', axis = 1, inplace = True)"
   ]
  },
  {
   "cell_type": "markdown",
   "id": "8ce9a86c",
   "metadata": {},
   "source": [
    "#### Test"
   ]
  },
  {
   "cell_type": "code",
   "execution_count": 33,
   "id": "fd49d718",
   "metadata": {},
   "outputs": [
    {
     "data": {
      "text/html": [
       "<div>\n",
       "<style scoped>\n",
       "    .dataframe tbody tr th:only-of-type {\n",
       "        vertical-align: middle;\n",
       "    }\n",
       "\n",
       "    .dataframe tbody tr th {\n",
       "        vertical-align: top;\n",
       "    }\n",
       "\n",
       "    .dataframe thead th {\n",
       "        text-align: right;\n",
       "    }\n",
       "</style>\n",
       "<table border=\"1\" class=\"dataframe\">\n",
       "  <thead>\n",
       "    <tr style=\"text-align: right;\">\n",
       "      <th></th>\n",
       "      <th>tweet_id</th>\n",
       "      <th>timestamp</th>\n",
       "      <th>text</th>\n",
       "      <th>expanded_urls</th>\n",
       "      <th>rating_numerator</th>\n",
       "      <th>rating_denominator</th>\n",
       "      <th>name</th>\n",
       "      <th>doggo</th>\n",
       "      <th>floofer</th>\n",
       "      <th>pupper</th>\n",
       "      <th>puppo</th>\n",
       "      <th>sources</th>\n",
       "    </tr>\n",
       "  </thead>\n",
       "  <tbody>\n",
       "    <tr>\n",
       "      <th>342</th>\n",
       "      <td>832088576586297345</td>\n",
       "      <td>2017-02-16 04:45:50</td>\n",
       "      <td>@docmisterio account started on 11/15/15</td>\n",
       "      <td>NaN</td>\n",
       "      <td>11</td>\n",
       "      <td>15</td>\n",
       "      <td>NaN</td>\n",
       "      <td>NaN</td>\n",
       "      <td>NaN</td>\n",
       "      <td>NaN</td>\n",
       "      <td>NaN</td>\n",
       "      <td>Twitter for iPhone</td>\n",
       "    </tr>\n",
       "    <tr>\n",
       "      <th>871</th>\n",
       "      <td>761599872357261312</td>\n",
       "      <td>2016-08-05 16:28:54</td>\n",
       "      <td>This is Sephie. According to this picture, she...</td>\n",
       "      <td>https://twitter.com/dog_rates/status/761599872...</td>\n",
       "      <td>11</td>\n",
       "      <td>10</td>\n",
       "      <td>Sephie</td>\n",
       "      <td>NaN</td>\n",
       "      <td>NaN</td>\n",
       "      <td>NaN</td>\n",
       "      <td>NaN</td>\n",
       "      <td>Twitter for iPhone</td>\n",
       "    </tr>\n",
       "    <tr>\n",
       "      <th>240</th>\n",
       "      <td>846514051647705089</td>\n",
       "      <td>2017-03-28 00:07:32</td>\n",
       "      <td>This is Barney. He's an elder doggo. Hitches a...</td>\n",
       "      <td>https://twitter.com/dog_rates/status/846514051...</td>\n",
       "      <td>13</td>\n",
       "      <td>10</td>\n",
       "      <td>Barney</td>\n",
       "      <td>doggo</td>\n",
       "      <td>NaN</td>\n",
       "      <td>NaN</td>\n",
       "      <td>NaN</td>\n",
       "      <td>Twitter for iPhone</td>\n",
       "    </tr>\n",
       "    <tr>\n",
       "      <th>437</th>\n",
       "      <td>820078625395449857</td>\n",
       "      <td>2017-01-14 01:22:35</td>\n",
       "      <td>I've never wanted to go to a camp more in my e...</td>\n",
       "      <td>https://twitter.com/dog_rates/status/820078625...</td>\n",
       "      <td>12</td>\n",
       "      <td>10</td>\n",
       "      <td>NaN</td>\n",
       "      <td>NaN</td>\n",
       "      <td>NaN</td>\n",
       "      <td>NaN</td>\n",
       "      <td>NaN</td>\n",
       "      <td>Twitter for iPhone</td>\n",
       "    </tr>\n",
       "    <tr>\n",
       "      <th>396</th>\n",
       "      <td>825147591692263424</td>\n",
       "      <td>2017-01-28 01:04:51</td>\n",
       "      <td>This is Sweet Pea. She hides in shoe boxes and...</td>\n",
       "      <td>https://twitter.com/dog_rates/status/825147591...</td>\n",
       "      <td>13</td>\n",
       "      <td>10</td>\n",
       "      <td>Sweet</td>\n",
       "      <td>NaN</td>\n",
       "      <td>NaN</td>\n",
       "      <td>NaN</td>\n",
       "      <td>NaN</td>\n",
       "      <td>Twitter for iPhone</td>\n",
       "    </tr>\n",
       "  </tbody>\n",
       "</table>\n",
       "</div>"
      ],
      "text/plain": [
       "               tweet_id           timestamp  \\\n",
       "342  832088576586297345 2017-02-16 04:45:50   \n",
       "871  761599872357261312 2016-08-05 16:28:54   \n",
       "240  846514051647705089 2017-03-28 00:07:32   \n",
       "437  820078625395449857 2017-01-14 01:22:35   \n",
       "396  825147591692263424 2017-01-28 01:04:51   \n",
       "\n",
       "                                                  text  \\\n",
       "342           @docmisterio account started on 11/15/15   \n",
       "871  This is Sephie. According to this picture, she...   \n",
       "240  This is Barney. He's an elder doggo. Hitches a...   \n",
       "437  I've never wanted to go to a camp more in my e...   \n",
       "396  This is Sweet Pea. She hides in shoe boxes and...   \n",
       "\n",
       "                                         expanded_urls  rating_numerator  \\\n",
       "342                                                NaN                11   \n",
       "871  https://twitter.com/dog_rates/status/761599872...                11   \n",
       "240  https://twitter.com/dog_rates/status/846514051...                13   \n",
       "437  https://twitter.com/dog_rates/status/820078625...                12   \n",
       "396  https://twitter.com/dog_rates/status/825147591...                13   \n",
       "\n",
       "     rating_denominator    name  doggo floofer pupper puppo  \\\n",
       "342                  15     NaN    NaN     NaN    NaN   NaN   \n",
       "871                  10  Sephie    NaN     NaN    NaN   NaN   \n",
       "240                  10  Barney  doggo     NaN    NaN   NaN   \n",
       "437                  10     NaN    NaN     NaN    NaN   NaN   \n",
       "396                  10   Sweet    NaN     NaN    NaN   NaN   \n",
       "\n",
       "                sources  \n",
       "342  Twitter for iPhone  \n",
       "871  Twitter for iPhone  \n",
       "240  Twitter for iPhone  \n",
       "437  Twitter for iPhone  \n",
       "396  Twitter for iPhone  "
      ]
     },
     "execution_count": 33,
     "metadata": {},
     "output_type": "execute_result"
    }
   ],
   "source": [
    "#checking the values in the sources column\n",
    "tweet_archive_clean.sample(5)"
   ]
  },
  {
   "cell_type": "markdown",
   "id": "a994c8d5",
   "metadata": {},
   "source": [
    "### Issue 8\n",
    "Potential Typographical error in dog names (Jessiga, Petrick, Sampson, Clarq)"
   ]
  },
  {
   "cell_type": "markdown",
   "id": "2a55919e",
   "metadata": {},
   "source": [
    "#### Define\n",
    "Replace (Jessiga, Fwed, Sampson, Josep, Joshwa, Shawwn, Pertrick, Franq, clarq, Johm, Hemry) with (Jessica, Fred, Samson, Joseph, Joshua, Shawn, Patrick, Frank, Clara, John, Henry). I may be wrong about this but I assume these names were not correctly spelt"
   ]
  },
  {
   "cell_type": "markdown",
   "id": "7f13f36a",
   "metadata": {},
   "source": [
    "#### Code\n"
   ]
  },
  {
   "cell_type": "code",
   "execution_count": 34,
   "id": "571b742b",
   "metadata": {},
   "outputs": [],
   "source": [
    "tweet_archive_clean['name'] = tweet_archive_clean['name'].replace(['Jessiga', 'Fwed', 'Sampson', 'Josep', 'Joshwa', 'Shawwn', 'Pertrick', 'Franq', 'Clarq', 'Johm', 'Hemry'],['Jessica', 'Fred', 'Samson', 'Joseph', 'Joshua', 'Shawn', 'Patrick', 'Frank', 'Clara', 'John', 'Henry'])"
   ]
  },
  {
   "cell_type": "markdown",
   "id": "4930e9b7",
   "metadata": {},
   "source": [
    "#### Test"
   ]
  },
  {
   "cell_type": "code",
   "execution_count": 35,
   "id": "de9cb9f9",
   "metadata": {},
   "outputs": [
    {
     "data": {
      "text/plain": [
       "False    1278\n",
       "Name: name, dtype: int64"
      ]
     },
     "execution_count": 35,
     "metadata": {},
     "output_type": "execute_result"
    }
   ],
   "source": [
    "#checking the names column for the misspelt names\n",
    "names = ['Jessiga', 'Fwed', 'Sampson', 'Josep', 'Joshwa', 'Shawwn', 'Pertrick', 'Franq', 'Clarq', 'Johm', 'Hemry']\n",
    "tweet_archive_clean['name'].isin(names).value_counts()"
   ]
  },
  {
   "cell_type": "markdown",
   "id": "b7b01358",
   "metadata": {},
   "source": [
    "### Issue 9\n",
    "Rows beyond August 1st, 2017 not needed"
   ]
  },
  {
   "cell_type": "markdown",
   "id": "c4e8cf95",
   "metadata": {},
   "source": [
    "#### Define \n",
    "Drop rows with timestamp beyond August 1st, 2017"
   ]
  },
  {
   "cell_type": "markdown",
   "id": "164b9bfb",
   "metadata": {},
   "source": [
    "#### Code"
   ]
  },
  {
   "cell_type": "code",
   "execution_count": 36,
   "id": "708e545b",
   "metadata": {},
   "outputs": [],
   "source": [
    "tweet_archive_clean = tweet_archive_clean[(tweet_archive_clean['timestamp'] <= '2017-08-01 00:00:00') & (tweet_archive_clean['timestamp'] >=  '2015-11-16 03:55:00')]"
   ]
  },
  {
   "cell_type": "markdown",
   "id": "944b9666",
   "metadata": {},
   "source": [
    "#### Test"
   ]
  },
  {
   "cell_type": "code",
   "execution_count": 37,
   "id": "5a22d3cd",
   "metadata": {},
   "outputs": [
    {
     "data": {
      "text/plain": [
       "Timestamp('2017-07-31 00:18:03')"
      ]
     },
     "execution_count": 37,
     "metadata": {},
     "output_type": "execute_result"
    }
   ],
   "source": [
    "#checking for the latest date\n",
    "tweet_archive_clean['timestamp'].max()"
   ]
  },
  {
   "cell_type": "markdown",
   "id": "1c286212",
   "metadata": {},
   "source": [
    "### Retweets Table\n",
    "### Issue 1\n",
    "id instead of tweet_id\n"
   ]
  },
  {
   "cell_type": "markdown",
   "id": "4093ed57",
   "metadata": {},
   "source": [
    "#### Define\n",
    "Change id in the retweets table to tweet id "
   ]
  },
  {
   "cell_type": "markdown",
   "id": "2bdfed4d",
   "metadata": {},
   "source": [
    "#### Code"
   ]
  },
  {
   "cell_type": "code",
   "execution_count": 38,
   "id": "2e74bc34",
   "metadata": {},
   "outputs": [],
   "source": [
    "retweets_clean.rename(columns = {'id': 'tweet_id'}, inplace = True)"
   ]
  },
  {
   "cell_type": "markdown",
   "id": "124985f5",
   "metadata": {},
   "source": [
    "#### Test"
   ]
  },
  {
   "cell_type": "code",
   "execution_count": 39,
   "id": "ec9b7032",
   "metadata": {},
   "outputs": [
    {
     "data": {
      "text/plain": [
       "Index(['tweet_id', 'retweet_count', 'favorite_count'], dtype='object')"
      ]
     },
     "execution_count": 39,
     "metadata": {},
     "output_type": "execute_result"
    }
   ],
   "source": [
    "#checking for the names of the columns \n",
    "retweets_clean.columns"
   ]
  },
  {
   "cell_type": "markdown",
   "id": "499eb84f",
   "metadata": {},
   "source": [
    "### Tidiness\n"
   ]
  },
  {
   "cell_type": "markdown",
   "id": "e2e91764",
   "metadata": {},
   "source": [
    "### Issue 1\n",
    "The three table should be in one dataframe"
   ]
  },
  {
   "cell_type": "markdown",
   "id": "f816ba68",
   "metadata": {},
   "source": [
    "##### Define\n",
    "Merge the three tables into one dataframe"
   ]
  },
  {
   "cell_type": "markdown",
   "id": "cf6144e2",
   "metadata": {},
   "source": [
    "##### Code"
   ]
  },
  {
   "cell_type": "code",
   "execution_count": 40,
   "id": "15a29b4e",
   "metadata": {},
   "outputs": [],
   "source": [
    "tweet_archive_clean = tweet_archive_clean.merge(image_clean, on = 'tweet_id', how = 'left').merge(retweets_clean, on = 'tweet_id', how = 'left')"
   ]
  },
  {
   "cell_type": "markdown",
   "id": "01011019",
   "metadata": {},
   "source": [
    "##### Test"
   ]
  },
  {
   "cell_type": "code",
   "execution_count": 41,
   "id": "be7b79b2",
   "metadata": {},
   "outputs": [
    {
     "name": "stdout",
     "output_type": "stream",
     "text": [
      "<class 'pandas.core.frame.DataFrame'>\n",
      "Int64Index: 1276 entries, 0 to 1275\n",
      "Data columns (total 25 columns):\n",
      " #   Column              Non-Null Count  Dtype         \n",
      "---  ------              --------------  -----         \n",
      " 0   tweet_id            1276 non-null   int64         \n",
      " 1   timestamp           1276 non-null   datetime64[ns]\n",
      " 2   text                1276 non-null   object        \n",
      " 3   expanded_urls       1239 non-null   object        \n",
      " 4   rating_numerator    1276 non-null   int64         \n",
      " 5   rating_denominator  1276 non-null   int64         \n",
      " 6   name                894 non-null    object        \n",
      " 7   doggo               74 non-null     object        \n",
      " 8   floofer             9 non-null      object        \n",
      " 9   pupper              140 non-null    object        \n",
      " 10  puppo               21 non-null     object        \n",
      " 11  sources             1276 non-null   object        \n",
      " 12  jpg_url             1140 non-null   object        \n",
      " 13  img_num             1140 non-null   float64       \n",
      " 14  p1                  1140 non-null   object        \n",
      " 15  p1_conf             1140 non-null   float64       \n",
      " 16  p1_dog              1140 non-null   object        \n",
      " 17  p2                  1140 non-null   object        \n",
      " 18  p2_conf             1140 non-null   float64       \n",
      " 19  p2_dog              1140 non-null   object        \n",
      " 20  p3                  1140 non-null   object        \n",
      " 21  p3_conf             1140 non-null   float64       \n",
      " 22  p3_dog              1140 non-null   object        \n",
      " 23  retweet_count       1276 non-null   int64         \n",
      " 24  favorite_count      1276 non-null   int64         \n",
      "dtypes: datetime64[ns](1), float64(4), int64(5), object(15)\n",
      "memory usage: 259.2+ KB\n"
     ]
    }
   ],
   "source": [
    "#chceking for new dataframe for column names\n",
    "tweet_archive_clean.info()"
   ]
  },
  {
   "cell_type": "markdown",
   "id": "9cf86e32",
   "metadata": {},
   "source": [
    "### Issue 2\n",
    "In the text column the gender of the dog was indicated in tweet_archive table"
   ]
  },
  {
   "cell_type": "markdown",
   "id": "47bbf95a",
   "metadata": {},
   "source": [
    "#### Define"
   ]
  },
  {
   "cell_type": "markdown",
   "id": "8f03fefa",
   "metadata": {},
   "source": [
    "Extract the gender of the dogs to a new column from text column"
   ]
  },
  {
   "cell_type": "markdown",
   "id": "e5db73e0",
   "metadata": {},
   "source": [
    "#### Code"
   ]
  },
  {
   "cell_type": "code",
   "execution_count": 42,
   "id": "a65ab705",
   "metadata": {
    "scrolled": true
   },
   "outputs": [],
   "source": [
    "#extract he and she from the text column to a new column called gender\n",
    "gen = ['he', 'she']\n",
    "word = '|'.join(r\"\\b{}\\b\".format(x) for x in gen)\n",
    "tweet_archive_clean['gender'] = tweet_archive_clean['text'].str.extract('('+ word + ')', expand=False, flags=re.I)\n",
    "#changing the gender column  values to lower case\n",
    "tweet_archive_clean['gender'] = tweet_archive_clean['gender'].str.lower()\n",
    "#replace he and she with male and female respectfully\n",
    "tweet_archive_clean['gender'] = tweet_archive_clean['gender'].replace(['he', 'she'], ['Male', 'Female'])"
   ]
  },
  {
   "cell_type": "markdown",
   "id": "cfa46d5b",
   "metadata": {},
   "source": [
    "#### Test"
   ]
  },
  {
   "cell_type": "code",
   "execution_count": 43,
   "id": "1d1cb190",
   "metadata": {
    "scrolled": true
   },
   "outputs": [
    {
     "data": {
      "text/plain": [
       "Male      577\n",
       "Female    225\n",
       "Name: gender, dtype: int64"
      ]
     },
     "execution_count": 43,
     "metadata": {},
     "output_type": "execute_result"
    }
   ],
   "source": [
    "tweet_archive_clean.gender.value_counts()"
   ]
  },
  {
   "cell_type": "markdown",
   "id": "3f241713",
   "metadata": {},
   "source": [
    "### Issue 3\n",
    "Rating denominator  column is a constant 10 also expanded url column it is not useful in our analysis"
   ]
  },
  {
   "cell_type": "markdown",
   "id": "98bce383",
   "metadata": {},
   "source": [
    "#### Define\n",
    "Dropping rating denominator and expanded urls columns"
   ]
  },
  {
   "cell_type": "markdown",
   "id": "ba83aac8",
   "metadata": {},
   "source": [
    "#### Code"
   ]
  },
  {
   "cell_type": "code",
   "execution_count": 44,
   "id": "cc02aed3",
   "metadata": {},
   "outputs": [],
   "source": [
    "tweet_archive_clean.drop(['rating_denominator', 'expanded_urls'], axis = 1, inplace = True)"
   ]
  },
  {
   "cell_type": "markdown",
   "id": "68a9edee",
   "metadata": {},
   "source": [
    "#### Test"
   ]
  },
  {
   "cell_type": "code",
   "execution_count": 45,
   "id": "9bbddc13",
   "metadata": {},
   "outputs": [
    {
     "data": {
      "text/plain": [
       "['tweet_id',\n",
       " 'timestamp',\n",
       " 'text',\n",
       " 'rating_numerator',\n",
       " 'name',\n",
       " 'doggo',\n",
       " 'floofer',\n",
       " 'pupper',\n",
       " 'puppo',\n",
       " 'sources',\n",
       " 'jpg_url',\n",
       " 'img_num',\n",
       " 'p1',\n",
       " 'p1_conf',\n",
       " 'p1_dog',\n",
       " 'p2',\n",
       " 'p2_conf',\n",
       " 'p2_dog',\n",
       " 'p3',\n",
       " 'p3_conf',\n",
       " 'p3_dog',\n",
       " 'retweet_count',\n",
       " 'favorite_count',\n",
       " 'gender']"
      ]
     },
     "execution_count": 45,
     "metadata": {},
     "output_type": "execute_result"
    }
   ],
   "source": [
    "#checking for column names\n",
    "list(tweet_archive_clean)"
   ]
  },
  {
   "cell_type": "markdown",
   "id": "1fe2791c",
   "metadata": {},
   "source": [
    "### Issue 4\n",
    "Doggo, floofer, pupper and puppo columns should be one coulmn"
   ]
  },
  {
   "cell_type": "markdown",
   "id": "68682dd1",
   "metadata": {},
   "source": [
    "#### Define\n",
    "Doggo, floofer, pupper and puppo columns should be merged into one coulmn"
   ]
  },
  {
   "cell_type": "markdown",
   "id": "5ab5eef2",
   "metadata": {},
   "source": [
    "#### Code"
   ]
  },
  {
   "cell_type": "code",
   "execution_count": 46,
   "id": "d541408c",
   "metadata": {},
   "outputs": [],
   "source": [
    "#merging the four columns into dog stage column\n",
    "tweet_archive_clean['dog_stage'] = tweet_archive_clean[tweet_archive_clean.columns[5:8]].apply(lambda x: '-'.join(x.dropna().astype(str)), axis=1)\n",
    "#dropping the columns\n",
    "tweet_archive_clean = tweet_archive_clean.drop(['doggo', 'floofer', 'pupper', 'puppo'], axis = 1)\n",
    "#replacing empty rows in the dog stage column with nan\n",
    "tweet_archive_clean['dog_stage'] = tweet_archive_clean['dog_stage'].replace('', np.NaN)"
   ]
  },
  {
   "cell_type": "markdown",
   "id": "693d4aa0",
   "metadata": {},
   "source": [
    "#### Test"
   ]
  },
  {
   "cell_type": "code",
   "execution_count": 47,
   "id": "bba9d6de",
   "metadata": {},
   "outputs": [
    {
     "name": "stdout",
     "output_type": "stream",
     "text": [
      "<class 'pandas.core.frame.DataFrame'>\n",
      "Int64Index: 1276 entries, 0 to 1275\n",
      "Data columns (total 21 columns):\n",
      " #   Column            Non-Null Count  Dtype         \n",
      "---  ------            --------------  -----         \n",
      " 0   tweet_id          1276 non-null   int64         \n",
      " 1   timestamp         1276 non-null   datetime64[ns]\n",
      " 2   text              1276 non-null   object        \n",
      " 3   rating_numerator  1276 non-null   int64         \n",
      " 4   name              894 non-null    object        \n",
      " 5   sources           1276 non-null   object        \n",
      " 6   jpg_url           1140 non-null   object        \n",
      " 7   img_num           1140 non-null   float64       \n",
      " 8   p1                1140 non-null   object        \n",
      " 9   p1_conf           1140 non-null   float64       \n",
      " 10  p1_dog            1140 non-null   object        \n",
      " 11  p2                1140 non-null   object        \n",
      " 12  p2_conf           1140 non-null   float64       \n",
      " 13  p2_dog            1140 non-null   object        \n",
      " 14  p3                1140 non-null   object        \n",
      " 15  p3_conf           1140 non-null   float64       \n",
      " 16  p3_dog            1140 non-null   object        \n",
      " 17  retweet_count     1276 non-null   int64         \n",
      " 18  favorite_count    1276 non-null   int64         \n",
      " 19  gender            802 non-null    object        \n",
      " 20  dog_stage         214 non-null    object        \n",
      "dtypes: datetime64[ns](1), float64(4), int64(4), object(12)\n",
      "memory usage: 219.3+ KB\n"
     ]
    }
   ],
   "source": [
    "tweet_archive_clean.info()"
   ]
  },
  {
   "cell_type": "markdown",
   "id": "26a7a0fc",
   "metadata": {},
   "source": [
    "### Issue 5\n",
    "original ratings with no image"
   ]
  },
  {
   "cell_type": "markdown",
   "id": "a81562b4",
   "metadata": {},
   "source": [
    "#### Define\n",
    "Drop rows with null values in jpg_url"
   ]
  },
  {
   "cell_type": "markdown",
   "id": "926d24d5",
   "metadata": {},
   "source": [
    "#### Code"
   ]
  },
  {
   "cell_type": "code",
   "execution_count": 48,
   "id": "1c38a521",
   "metadata": {},
   "outputs": [],
   "source": [
    "tweet_archive_clean = tweet_archive_clean.dropna(subset = ['jpg_url'])"
   ]
  },
  {
   "cell_type": "markdown",
   "id": "3e94407d",
   "metadata": {},
   "source": [
    "#### Test"
   ]
  },
  {
   "cell_type": "code",
   "execution_count": 49,
   "id": "e3de5b58",
   "metadata": {},
   "outputs": [
    {
     "name": "stdout",
     "output_type": "stream",
     "text": [
      "<class 'pandas.core.frame.DataFrame'>\n",
      "Int64Index: 1140 entries, 0 to 1275\n",
      "Data columns (total 21 columns):\n",
      " #   Column            Non-Null Count  Dtype         \n",
      "---  ------            --------------  -----         \n",
      " 0   tweet_id          1140 non-null   int64         \n",
      " 1   timestamp         1140 non-null   datetime64[ns]\n",
      " 2   text              1140 non-null   object        \n",
      " 3   rating_numerator  1140 non-null   int64         \n",
      " 4   name              855 non-null    object        \n",
      " 5   sources           1140 non-null   object        \n",
      " 6   jpg_url           1140 non-null   object        \n",
      " 7   img_num           1140 non-null   float64       \n",
      " 8   p1                1140 non-null   object        \n",
      " 9   p1_conf           1140 non-null   float64       \n",
      " 10  p1_dog            1140 non-null   object        \n",
      " 11  p2                1140 non-null   object        \n",
      " 12  p2_conf           1140 non-null   float64       \n",
      " 13  p2_dog            1140 non-null   object        \n",
      " 14  p3                1140 non-null   object        \n",
      " 15  p3_conf           1140 non-null   float64       \n",
      " 16  p3_dog            1140 non-null   object        \n",
      " 17  retweet_count     1140 non-null   int64         \n",
      " 18  favorite_count    1140 non-null   int64         \n",
      " 19  gender            756 non-null    object        \n",
      " 20  dog_stage         185 non-null    object        \n",
      "dtypes: datetime64[ns](1), float64(4), int64(4), object(12)\n",
      "memory usage: 195.9+ KB\n"
     ]
    }
   ],
   "source": [
    "#checking for null values in jpg_url column\n",
    "tweet_archive_clean.info()"
   ]
  },
  {
   "cell_type": "markdown",
   "id": "443f69b1",
   "metadata": {},
   "source": [
    "#### Code"
   ]
  },
  {
   "cell_type": "code",
   "execution_count": 50,
   "id": "751be70e",
   "metadata": {},
   "outputs": [],
   "source": [
    "prediction = []\n",
    "conf = []\n",
    "#utility function\n",
    "def prediction_confidence(df):\n",
    "    \"\"\"\n",
    "    Determine the  algorithm's prediction and algorithm's confidence\n",
    "    Args:\n",
    "       df (pandas.core.DataFrame) - pandas dataframe containing alogrithm's prediction and confidence in different columns\n",
    "    Returns:\n",
    "       nan, alogrithm's prediction and algorithm's confidence\n",
    "    \"\"\"\n",
    "    if df['p1_dog'] == True:\n",
    "        prediction.append(df['p1'])\n",
    "        conf.append(df['p1_conf'])\n",
    "    elif df['p2_dog'] == True:\n",
    "        prediction.append(df['p2'])\n",
    "        conf.append(df['p2_conf'])\n",
    "    elif df['p3_dog'] == True:\n",
    "        prediction.append(df['p3'])\n",
    "        conf.append(df['p3_conf'])\n",
    "    else:\n",
    "        prediction.append('')\n",
    "        conf.append(0)\n",
    "# adding prediction and confidence to the tweet_archive_clean dataframe\n",
    "tweet_archive_clean.apply(prediction_confidence, axis = 1)\n",
    "tweet_archive_clean['breed_prediction'] = prediction\n",
    "tweet_archive_clean['confidence'] = conf\n",
    "#dropping the image prediction columns\n",
    "tweet_archive_clean = tweet_archive_clean.drop(['p1', 'p1_conf', 'p1_dog', 'p2', 'p2_conf', 'p2_dog', 'p3', 'p3_conf', 'p3_dog'], axis = 1)\n",
    "#replacing the empty rows in the breed prediction columns with nan\n",
    "tweet_archive_clean['breed_prediction'] = tweet_archive_clean['breed_prediction'].replace('', np.NaN)"
   ]
  },
  {
   "cell_type": "markdown",
   "id": "3db558ac",
   "metadata": {},
   "source": [
    "#### Test"
   ]
  },
  {
   "cell_type": "code",
   "execution_count": 51,
   "id": "969605be",
   "metadata": {},
   "outputs": [
    {
     "data": {
      "text/plain": [
       "Index(['tweet_id', 'timestamp', 'text', 'rating_numerator', 'name', 'sources',\n",
       "       'jpg_url', 'img_num', 'retweet_count', 'favorite_count', 'gender',\n",
       "       'dog_stage', 'breed_prediction', 'confidence'],\n",
       "      dtype='object')"
      ]
     },
     "execution_count": 51,
     "metadata": {},
     "output_type": "execute_result"
    }
   ],
   "source": [
    "tweet_archive_clean.columns"
   ]
  },
  {
   "cell_type": "markdown",
   "id": "73c12367",
   "metadata": {},
   "source": [
    "<a id='store'></a>\n",
    "## Storing Data"
   ]
  },
  {
   "cell_type": "code",
   "execution_count": 52,
   "id": "29442765",
   "metadata": {},
   "outputs": [],
   "source": [
    "#storing clean data in a new csv file\n",
    "tweet_archive_clean.to_csv('twitter_archive_master.csv', index = False)"
   ]
  },
  {
   "cell_type": "markdown",
   "id": "fd15f019",
   "metadata": {},
   "source": [
    "<a id='visual'></a>\n",
    "## Analyzing and Visualizing Data\n",
    "In this section, analyze and visualize your wrangled data. I produced **three (3) insights and one (1) visualization.**"
   ]
  },
  {
   "cell_type": "code",
   "execution_count": 53,
   "id": "596c1671",
   "metadata": {},
   "outputs": [
    {
     "data": {
      "text/html": [
       "<div>\n",
       "<style scoped>\n",
       "    .dataframe tbody tr th:only-of-type {\n",
       "        vertical-align: middle;\n",
       "    }\n",
       "\n",
       "    .dataframe tbody tr th {\n",
       "        vertical-align: top;\n",
       "    }\n",
       "\n",
       "    .dataframe thead th {\n",
       "        text-align: right;\n",
       "    }\n",
       "</style>\n",
       "<table border=\"1\" class=\"dataframe\">\n",
       "  <thead>\n",
       "    <tr style=\"text-align: right;\">\n",
       "      <th></th>\n",
       "      <th>tweet_id</th>\n",
       "      <th>timestamp</th>\n",
       "      <th>text</th>\n",
       "      <th>rating_numerator</th>\n",
       "      <th>name</th>\n",
       "      <th>sources</th>\n",
       "      <th>jpg_url</th>\n",
       "      <th>img_num</th>\n",
       "      <th>retweet_count</th>\n",
       "      <th>favorite_count</th>\n",
       "      <th>gender</th>\n",
       "      <th>dog_stage</th>\n",
       "      <th>breed_prediction</th>\n",
       "      <th>confidence</th>\n",
       "    </tr>\n",
       "  </thead>\n",
       "  <tbody>\n",
       "    <tr>\n",
       "      <th>741</th>\n",
       "      <td>744234799360020481</td>\n",
       "      <td>2016-06-18 18:26:18</td>\n",
       "      <td>Here's a doggo realizing you can stand in a po...</td>\n",
       "      <td>13</td>\n",
       "      <td>NaN</td>\n",
       "      <td>Twitter for iPhone</td>\n",
       "      <td>https://pbs.twimg.com/ext_tw_video_thumb/74423...</td>\n",
       "      <td>1.0</td>\n",
       "      <td>79515</td>\n",
       "      <td>131075</td>\n",
       "      <td>NaN</td>\n",
       "      <td>doggo</td>\n",
       "      <td>Labrador_retriever</td>\n",
       "      <td>0.825333</td>\n",
       "    </tr>\n",
       "    <tr>\n",
       "      <th>422</th>\n",
       "      <td>807106840509214720</td>\n",
       "      <td>2016-12-09 06:17:20</td>\n",
       "      <td>This is Stephan. He just wants to help. 13/10 ...</td>\n",
       "      <td>13</td>\n",
       "      <td>Stephan</td>\n",
       "      <td>Twitter for iPhone</td>\n",
       "      <td>https://pbs.twimg.com/ext_tw_video_thumb/80710...</td>\n",
       "      <td>1.0</td>\n",
       "      <td>56625</td>\n",
       "      <td>107015</td>\n",
       "      <td>Male</td>\n",
       "      <td>NaN</td>\n",
       "      <td>Chihuahua</td>\n",
       "      <td>0.505370</td>\n",
       "    </tr>\n",
       "    <tr>\n",
       "      <th>760</th>\n",
       "      <td>739238157791694849</td>\n",
       "      <td>2016-06-04 23:31:25</td>\n",
       "      <td>Here's a doggo blowing bubbles. It's downright...</td>\n",
       "      <td>13</td>\n",
       "      <td>NaN</td>\n",
       "      <td>Twitter for iPhone</td>\n",
       "      <td>https://pbs.twimg.com/ext_tw_video_thumb/73923...</td>\n",
       "      <td>1.0</td>\n",
       "      <td>52360</td>\n",
       "      <td>75163</td>\n",
       "      <td>NaN</td>\n",
       "      <td>doggo</td>\n",
       "      <td>Eskimo_dog</td>\n",
       "      <td>0.503372</td>\n",
       "    </tr>\n",
       "    <tr>\n",
       "      <th>331</th>\n",
       "      <td>822872901745569793</td>\n",
       "      <td>2017-01-21 18:26:02</td>\n",
       "      <td>Here's a super supportive puppo participating ...</td>\n",
       "      <td>13</td>\n",
       "      <td>NaN</td>\n",
       "      <td>Twitter for iPhone</td>\n",
       "      <td>https://pbs.twimg.com/media/C2tugXLXgAArJO4.jpg</td>\n",
       "      <td>1.0</td>\n",
       "      <td>48265</td>\n",
       "      <td>132810</td>\n",
       "      <td>NaN</td>\n",
       "      <td>NaN</td>\n",
       "      <td>Lakeland_terrier</td>\n",
       "      <td>0.196015</td>\n",
       "    </tr>\n",
       "    <tr>\n",
       "      <th>60</th>\n",
       "      <td>879415818425184262</td>\n",
       "      <td>2017-06-26 19:07:24</td>\n",
       "      <td>This is Duddles. He did an attempt. 13/10 some...</td>\n",
       "      <td>13</td>\n",
       "      <td>Duddles</td>\n",
       "      <td>Twitter for iPhone</td>\n",
       "      <td>https://pbs.twimg.com/ext_tw_video_thumb/87941...</td>\n",
       "      <td>1.0</td>\n",
       "      <td>45849</td>\n",
       "      <td>107956</td>\n",
       "      <td>Male</td>\n",
       "      <td>NaN</td>\n",
       "      <td>English_springer</td>\n",
       "      <td>0.383404</td>\n",
       "    </tr>\n",
       "    <tr>\n",
       "      <th>355</th>\n",
       "      <td>819004803107983360</td>\n",
       "      <td>2017-01-11 02:15:36</td>\n",
       "      <td>This is Bo. He was a very good First Doggo. 14...</td>\n",
       "      <td>14</td>\n",
       "      <td>Bo</td>\n",
       "      <td>Twitter for iPhone</td>\n",
       "      <td>https://pbs.twimg.com/media/C12whDoVEAALRxa.jpg</td>\n",
       "      <td>1.0</td>\n",
       "      <td>42228</td>\n",
       "      <td>95450</td>\n",
       "      <td>Male</td>\n",
       "      <td>doggo</td>\n",
       "      <td>standard_poodle</td>\n",
       "      <td>0.351308</td>\n",
       "    </tr>\n",
       "    <tr>\n",
       "      <th>424</th>\n",
       "      <td>806629075125202948</td>\n",
       "      <td>2016-12-07 22:38:52</td>\n",
       "      <td>\"Good afternoon class today we're going to lea...</td>\n",
       "      <td>13</td>\n",
       "      <td>NaN</td>\n",
       "      <td>Twitter for iPhone</td>\n",
       "      <td>https://pbs.twimg.com/media/CzG425nWgAAnP7P.jpg</td>\n",
       "      <td>2.0</td>\n",
       "      <td>37911</td>\n",
       "      <td>75639</td>\n",
       "      <td>NaN</td>\n",
       "      <td>NaN</td>\n",
       "      <td>cocker_spaniel</td>\n",
       "      <td>0.046403</td>\n",
       "    </tr>\n",
       "    <tr>\n",
       "      <th>115</th>\n",
       "      <td>866450705531457537</td>\n",
       "      <td>2017-05-22 00:28:40</td>\n",
       "      <td>This is Jamesy. He gives a kiss to every other...</td>\n",
       "      <td>13</td>\n",
       "      <td>Jamesy</td>\n",
       "      <td>Twitter for iPhone</td>\n",
       "      <td>https://pbs.twimg.com/media/DAZAUfBXcAAG_Nn.jpg</td>\n",
       "      <td>2.0</td>\n",
       "      <td>32883</td>\n",
       "      <td>106827</td>\n",
       "      <td>Male</td>\n",
       "      <td>pupper</td>\n",
       "      <td>French_bulldog</td>\n",
       "      <td>0.905334</td>\n",
       "    </tr>\n",
       "    <tr>\n",
       "      <th>362</th>\n",
       "      <td>817827839487737858</td>\n",
       "      <td>2017-01-07 20:18:46</td>\n",
       "      <td>This is Buddy. He ran into a glass door once. ...</td>\n",
       "      <td>13</td>\n",
       "      <td>Buddy</td>\n",
       "      <td>Twitter for iPhone</td>\n",
       "      <td>https://pbs.twimg.com/ext_tw_video_thumb/81782...</td>\n",
       "      <td>1.0</td>\n",
       "      <td>31314</td>\n",
       "      <td>57622</td>\n",
       "      <td>Male</td>\n",
       "      <td>NaN</td>\n",
       "      <td>cocker_spaniel</td>\n",
       "      <td>0.387608</td>\n",
       "    </tr>\n",
       "    <tr>\n",
       "      <th>1104</th>\n",
       "      <td>678399652199309312</td>\n",
       "      <td>2015-12-20 02:20:55</td>\n",
       "      <td>This made my day. 12/10 please enjoy https://t...</td>\n",
       "      <td>12</td>\n",
       "      <td>NaN</td>\n",
       "      <td>Twitter for iPhone</td>\n",
       "      <td>https://pbs.twimg.com/ext_tw_video_thumb/67839...</td>\n",
       "      <td>1.0</td>\n",
       "      <td>30742</td>\n",
       "      <td>61794</td>\n",
       "      <td>NaN</td>\n",
       "      <td>NaN</td>\n",
       "      <td>Bedlington_terrier</td>\n",
       "      <td>0.015047</td>\n",
       "    </tr>\n",
       "    <tr>\n",
       "      <th>478</th>\n",
       "      <td>795464331001561088</td>\n",
       "      <td>2016-11-07 03:14:10</td>\n",
       "      <td>Elder doggo does a splash. Both 13/10 incredib...</td>\n",
       "      <td>13</td>\n",
       "      <td>NaN</td>\n",
       "      <td>Twitter for iPhone</td>\n",
       "      <td>https://pbs.twimg.com/ext_tw_video_thumb/79546...</td>\n",
       "      <td>1.0</td>\n",
       "      <td>27728</td>\n",
       "      <td>55683</td>\n",
       "      <td>NaN</td>\n",
       "      <td>doggo</td>\n",
       "      <td>golden_retriever</td>\n",
       "      <td>0.193082</td>\n",
       "    </tr>\n",
       "  </tbody>\n",
       "</table>\n",
       "</div>"
      ],
      "text/plain": [
       "                tweet_id           timestamp  \\\n",
       "741   744234799360020481 2016-06-18 18:26:18   \n",
       "422   807106840509214720 2016-12-09 06:17:20   \n",
       "760   739238157791694849 2016-06-04 23:31:25   \n",
       "331   822872901745569793 2017-01-21 18:26:02   \n",
       "60    879415818425184262 2017-06-26 19:07:24   \n",
       "355   819004803107983360 2017-01-11 02:15:36   \n",
       "424   806629075125202948 2016-12-07 22:38:52   \n",
       "115   866450705531457537 2017-05-22 00:28:40   \n",
       "362   817827839487737858 2017-01-07 20:18:46   \n",
       "1104  678399652199309312 2015-12-20 02:20:55   \n",
       "478   795464331001561088 2016-11-07 03:14:10   \n",
       "\n",
       "                                                   text  rating_numerator  \\\n",
       "741   Here's a doggo realizing you can stand in a po...                13   \n",
       "422   This is Stephan. He just wants to help. 13/10 ...                13   \n",
       "760   Here's a doggo blowing bubbles. It's downright...                13   \n",
       "331   Here's a super supportive puppo participating ...                13   \n",
       "60    This is Duddles. He did an attempt. 13/10 some...                13   \n",
       "355   This is Bo. He was a very good First Doggo. 14...                14   \n",
       "424   \"Good afternoon class today we're going to lea...                13   \n",
       "115   This is Jamesy. He gives a kiss to every other...                13   \n",
       "362   This is Buddy. He ran into a glass door once. ...                13   \n",
       "1104  This made my day. 12/10 please enjoy https://t...                12   \n",
       "478   Elder doggo does a splash. Both 13/10 incredib...                13   \n",
       "\n",
       "         name             sources  \\\n",
       "741       NaN  Twitter for iPhone   \n",
       "422   Stephan  Twitter for iPhone   \n",
       "760       NaN  Twitter for iPhone   \n",
       "331       NaN  Twitter for iPhone   \n",
       "60    Duddles  Twitter for iPhone   \n",
       "355        Bo  Twitter for iPhone   \n",
       "424       NaN  Twitter for iPhone   \n",
       "115    Jamesy  Twitter for iPhone   \n",
       "362     Buddy  Twitter for iPhone   \n",
       "1104      NaN  Twitter for iPhone   \n",
       "478       NaN  Twitter for iPhone   \n",
       "\n",
       "                                                jpg_url  img_num  \\\n",
       "741   https://pbs.twimg.com/ext_tw_video_thumb/74423...      1.0   \n",
       "422   https://pbs.twimg.com/ext_tw_video_thumb/80710...      1.0   \n",
       "760   https://pbs.twimg.com/ext_tw_video_thumb/73923...      1.0   \n",
       "331     https://pbs.twimg.com/media/C2tugXLXgAArJO4.jpg      1.0   \n",
       "60    https://pbs.twimg.com/ext_tw_video_thumb/87941...      1.0   \n",
       "355     https://pbs.twimg.com/media/C12whDoVEAALRxa.jpg      1.0   \n",
       "424     https://pbs.twimg.com/media/CzG425nWgAAnP7P.jpg      2.0   \n",
       "115     https://pbs.twimg.com/media/DAZAUfBXcAAG_Nn.jpg      2.0   \n",
       "362   https://pbs.twimg.com/ext_tw_video_thumb/81782...      1.0   \n",
       "1104  https://pbs.twimg.com/ext_tw_video_thumb/67839...      1.0   \n",
       "478   https://pbs.twimg.com/ext_tw_video_thumb/79546...      1.0   \n",
       "\n",
       "      retweet_count  favorite_count gender dog_stage    breed_prediction  \\\n",
       "741           79515          131075    NaN     doggo  Labrador_retriever   \n",
       "422           56625          107015   Male       NaN           Chihuahua   \n",
       "760           52360           75163    NaN     doggo          Eskimo_dog   \n",
       "331           48265          132810    NaN       NaN    Lakeland_terrier   \n",
       "60            45849          107956   Male       NaN    English_springer   \n",
       "355           42228           95450   Male     doggo     standard_poodle   \n",
       "424           37911           75639    NaN       NaN      cocker_spaniel   \n",
       "115           32883          106827   Male    pupper      French_bulldog   \n",
       "362           31314           57622   Male       NaN      cocker_spaniel   \n",
       "1104          30742           61794    NaN       NaN  Bedlington_terrier   \n",
       "478           27728           55683    NaN     doggo    golden_retriever   \n",
       "\n",
       "      confidence  \n",
       "741     0.825333  \n",
       "422     0.505370  \n",
       "760     0.503372  \n",
       "331     0.196015  \n",
       "60      0.383404  \n",
       "355     0.351308  \n",
       "424     0.046403  \n",
       "115     0.905334  \n",
       "362     0.387608  \n",
       "1104    0.015047  \n",
       "478     0.193082  "
      ]
     },
     "execution_count": 53,
     "metadata": {},
     "output_type": "execute_result"
    }
   ],
   "source": [
    "#displaying the top 10 retweet count\n",
    "retweets_count = tweet_archive_clean.sort_values('retweet_count', axis = 0, ascending = False)\n",
    "top_retweets = retweets_count.iloc[:11, :]\n",
    "top_retweets"
   ]
  },
  {
   "cell_type": "code",
   "execution_count": 54,
   "id": "203790d6",
   "metadata": {},
   "outputs": [
    {
     "data": {
      "text/plain": [
       "golden_retriever            123\n",
       "Pembroke                     78\n",
       "Labrador_retriever           74\n",
       "Chihuahua                    48\n",
       "chow                         37\n",
       "toy_poodle                   37\n",
       "Samoyed                      35\n",
       "Pomeranian                   28\n",
       "pug                          25\n",
       "cocker_spaniel               22\n",
       "French_bulldog               21\n",
       "malamute                     19\n",
       "Eskimo_dog                   15\n",
       "Chesapeake_Bay_retriever     15\n",
       "Cardigan                     15\n",
       "Siberian_husky               14\n",
       "Name: breed_prediction, dtype: int64"
      ]
     },
     "execution_count": 54,
     "metadata": {},
     "output_type": "execute_result"
    }
   ],
   "source": [
    "#displaying value counts for the dog breeds\n",
    "tweet_archive_clean['breed_prediction'].value_counts()[:16]"
   ]
  },
  {
   "cell_type": "code",
   "execution_count": 55,
   "id": "0e4f10b1",
   "metadata": {},
   "outputs": [
    {
     "data": {
      "text/plain": [
       "Male      540\n",
       "Female    216\n",
       "Name: gender, dtype: int64"
      ]
     },
     "execution_count": 55,
     "metadata": {},
     "output_type": "execute_result"
    }
   ],
   "source": [
    "#diplaying value count for the gender of the dog\n",
    "tweet_archive_clean['gender'].value_counts()"
   ]
  },
  {
   "cell_type": "code",
   "execution_count": 56,
   "id": "952c6db5",
   "metadata": {},
   "outputs": [
    {
     "data": {
      "text/plain": [
       "pupper           116\n",
       "doggo             55\n",
       "doggo-pupper       7\n",
       "floofer            6\n",
       "doggo-floofer      1\n",
       "Name: dog_stage, dtype: int64"
      ]
     },
     "execution_count": 56,
     "metadata": {},
     "output_type": "execute_result"
    }
   ],
   "source": [
    "#displaying value count for the dog stages\n",
    "tweet_archive_clean['dog_stage'].value_counts()"
   ]
  },
  {
   "cell_type": "code",
   "execution_count": 57,
   "id": "2dc51519",
   "metadata": {},
   "outputs": [
    {
     "data": {
      "text/html": [
       "<div>\n",
       "<style scoped>\n",
       "    .dataframe tbody tr th:only-of-type {\n",
       "        vertical-align: middle;\n",
       "    }\n",
       "\n",
       "    .dataframe tbody tr th {\n",
       "        vertical-align: top;\n",
       "    }\n",
       "\n",
       "    .dataframe thead th {\n",
       "        text-align: right;\n",
       "    }\n",
       "</style>\n",
       "<table border=\"1\" class=\"dataframe\">\n",
       "  <thead>\n",
       "    <tr style=\"text-align: right;\">\n",
       "      <th></th>\n",
       "      <th>tweet_id</th>\n",
       "      <th>timestamp</th>\n",
       "      <th>text</th>\n",
       "      <th>rating_numerator</th>\n",
       "      <th>name</th>\n",
       "      <th>sources</th>\n",
       "      <th>jpg_url</th>\n",
       "      <th>img_num</th>\n",
       "      <th>retweet_count</th>\n",
       "      <th>favorite_count</th>\n",
       "      <th>gender</th>\n",
       "      <th>dog_stage</th>\n",
       "      <th>breed_prediction</th>\n",
       "      <th>confidence</th>\n",
       "    </tr>\n",
       "  </thead>\n",
       "  <tbody>\n",
       "    <tr>\n",
       "      <th>331</th>\n",
       "      <td>822872901745569793</td>\n",
       "      <td>2017-01-21 18:26:02</td>\n",
       "      <td>Here's a super supportive puppo participating ...</td>\n",
       "      <td>13</td>\n",
       "      <td>NaN</td>\n",
       "      <td>Twitter for iPhone</td>\n",
       "      <td>https://pbs.twimg.com/media/C2tugXLXgAArJO4.jpg</td>\n",
       "      <td>1.0</td>\n",
       "      <td>48265</td>\n",
       "      <td>132810</td>\n",
       "      <td>NaN</td>\n",
       "      <td>NaN</td>\n",
       "      <td>Lakeland_terrier</td>\n",
       "      <td>0.196015</td>\n",
       "    </tr>\n",
       "    <tr>\n",
       "      <th>741</th>\n",
       "      <td>744234799360020481</td>\n",
       "      <td>2016-06-18 18:26:18</td>\n",
       "      <td>Here's a doggo realizing you can stand in a po...</td>\n",
       "      <td>13</td>\n",
       "      <td>NaN</td>\n",
       "      <td>Twitter for iPhone</td>\n",
       "      <td>https://pbs.twimg.com/ext_tw_video_thumb/74423...</td>\n",
       "      <td>1.0</td>\n",
       "      <td>79515</td>\n",
       "      <td>131075</td>\n",
       "      <td>NaN</td>\n",
       "      <td>doggo</td>\n",
       "      <td>Labrador_retriever</td>\n",
       "      <td>0.825333</td>\n",
       "    </tr>\n",
       "    <tr>\n",
       "      <th>60</th>\n",
       "      <td>879415818425184262</td>\n",
       "      <td>2017-06-26 19:07:24</td>\n",
       "      <td>This is Duddles. He did an attempt. 13/10 some...</td>\n",
       "      <td>13</td>\n",
       "      <td>Duddles</td>\n",
       "      <td>Twitter for iPhone</td>\n",
       "      <td>https://pbs.twimg.com/ext_tw_video_thumb/87941...</td>\n",
       "      <td>1.0</td>\n",
       "      <td>45849</td>\n",
       "      <td>107956</td>\n",
       "      <td>Male</td>\n",
       "      <td>NaN</td>\n",
       "      <td>English_springer</td>\n",
       "      <td>0.383404</td>\n",
       "    </tr>\n",
       "    <tr>\n",
       "      <th>422</th>\n",
       "      <td>807106840509214720</td>\n",
       "      <td>2016-12-09 06:17:20</td>\n",
       "      <td>This is Stephan. He just wants to help. 13/10 ...</td>\n",
       "      <td>13</td>\n",
       "      <td>Stephan</td>\n",
       "      <td>Twitter for iPhone</td>\n",
       "      <td>https://pbs.twimg.com/ext_tw_video_thumb/80710...</td>\n",
       "      <td>1.0</td>\n",
       "      <td>56625</td>\n",
       "      <td>107015</td>\n",
       "      <td>Male</td>\n",
       "      <td>NaN</td>\n",
       "      <td>Chihuahua</td>\n",
       "      <td>0.505370</td>\n",
       "    </tr>\n",
       "    <tr>\n",
       "      <th>115</th>\n",
       "      <td>866450705531457537</td>\n",
       "      <td>2017-05-22 00:28:40</td>\n",
       "      <td>This is Jamesy. He gives a kiss to every other...</td>\n",
       "      <td>13</td>\n",
       "      <td>Jamesy</td>\n",
       "      <td>Twitter for iPhone</td>\n",
       "      <td>https://pbs.twimg.com/media/DAZAUfBXcAAG_Nn.jpg</td>\n",
       "      <td>2.0</td>\n",
       "      <td>32883</td>\n",
       "      <td>106827</td>\n",
       "      <td>Male</td>\n",
       "      <td>pupper</td>\n",
       "      <td>French_bulldog</td>\n",
       "      <td>0.905334</td>\n",
       "    </tr>\n",
       "    <tr>\n",
       "      <th>355</th>\n",
       "      <td>819004803107983360</td>\n",
       "      <td>2017-01-11 02:15:36</td>\n",
       "      <td>This is Bo. He was a very good First Doggo. 14...</td>\n",
       "      <td>14</td>\n",
       "      <td>Bo</td>\n",
       "      <td>Twitter for iPhone</td>\n",
       "      <td>https://pbs.twimg.com/media/C12whDoVEAALRxa.jpg</td>\n",
       "      <td>1.0</td>\n",
       "      <td>42228</td>\n",
       "      <td>95450</td>\n",
       "      <td>Male</td>\n",
       "      <td>doggo</td>\n",
       "      <td>standard_poodle</td>\n",
       "      <td>0.351308</td>\n",
       "    </tr>\n",
       "    <tr>\n",
       "      <th>99</th>\n",
       "      <td>870374049280663552</td>\n",
       "      <td>2017-06-01 20:18:38</td>\n",
       "      <td>This is Zoey. She really likes the planet. Wou...</td>\n",
       "      <td>13</td>\n",
       "      <td>Zoey</td>\n",
       "      <td>Twitter for iPhone</td>\n",
       "      <td>https://pbs.twimg.com/media/DBQwlFCXkAACSkI.jpg</td>\n",
       "      <td>1.0</td>\n",
       "      <td>27680</td>\n",
       "      <td>85011</td>\n",
       "      <td>Female</td>\n",
       "      <td>NaN</td>\n",
       "      <td>golden_retriever</td>\n",
       "      <td>0.841001</td>\n",
       "    </tr>\n",
       "    <tr>\n",
       "      <th>424</th>\n",
       "      <td>806629075125202948</td>\n",
       "      <td>2016-12-07 22:38:52</td>\n",
       "      <td>\"Good afternoon class today we're going to lea...</td>\n",
       "      <td>13</td>\n",
       "      <td>NaN</td>\n",
       "      <td>Twitter for iPhone</td>\n",
       "      <td>https://pbs.twimg.com/media/CzG425nWgAAnP7P.jpg</td>\n",
       "      <td>2.0</td>\n",
       "      <td>37911</td>\n",
       "      <td>75639</td>\n",
       "      <td>NaN</td>\n",
       "      <td>NaN</td>\n",
       "      <td>cocker_spaniel</td>\n",
       "      <td>0.046403</td>\n",
       "    </tr>\n",
       "    <tr>\n",
       "      <th>143</th>\n",
       "      <td>859196978902773760</td>\n",
       "      <td>2017-05-02 00:04:57</td>\n",
       "      <td>We only rate dogs. This is quite clearly a smo...</td>\n",
       "      <td>12</td>\n",
       "      <td>quite</td>\n",
       "      <td>Twitter for iPhone</td>\n",
       "      <td>https://pbs.twimg.com/ext_tw_video_thumb/85919...</td>\n",
       "      <td>1.0</td>\n",
       "      <td>25661</td>\n",
       "      <td>75193</td>\n",
       "      <td>NaN</td>\n",
       "      <td>NaN</td>\n",
       "      <td>malamute</td>\n",
       "      <td>0.216163</td>\n",
       "    </tr>\n",
       "    <tr>\n",
       "      <th>760</th>\n",
       "      <td>739238157791694849</td>\n",
       "      <td>2016-06-04 23:31:25</td>\n",
       "      <td>Here's a doggo blowing bubbles. It's downright...</td>\n",
       "      <td>13</td>\n",
       "      <td>NaN</td>\n",
       "      <td>Twitter for iPhone</td>\n",
       "      <td>https://pbs.twimg.com/ext_tw_video_thumb/73923...</td>\n",
       "      <td>1.0</td>\n",
       "      <td>52360</td>\n",
       "      <td>75163</td>\n",
       "      <td>NaN</td>\n",
       "      <td>doggo</td>\n",
       "      <td>Eskimo_dog</td>\n",
       "      <td>0.503372</td>\n",
       "    </tr>\n",
       "    <tr>\n",
       "      <th>285</th>\n",
       "      <td>830583320585068544</td>\n",
       "      <td>2017-02-12 01:04:29</td>\n",
       "      <td>This is Lilly. She just parallel barked. Kindl...</td>\n",
       "      <td>13</td>\n",
       "      <td>Lilly</td>\n",
       "      <td>Twitter for iPhone</td>\n",
       "      <td>https://pbs.twimg.com/media/C4bTH6nWMAAX_bJ.jpg</td>\n",
       "      <td>1.0</td>\n",
       "      <td>19297</td>\n",
       "      <td>73397</td>\n",
       "      <td>Female</td>\n",
       "      <td>NaN</td>\n",
       "      <td>Labrador_retriever</td>\n",
       "      <td>0.908703</td>\n",
       "    </tr>\n",
       "  </tbody>\n",
       "</table>\n",
       "</div>"
      ],
      "text/plain": [
       "               tweet_id           timestamp  \\\n",
       "331  822872901745569793 2017-01-21 18:26:02   \n",
       "741  744234799360020481 2016-06-18 18:26:18   \n",
       "60   879415818425184262 2017-06-26 19:07:24   \n",
       "422  807106840509214720 2016-12-09 06:17:20   \n",
       "115  866450705531457537 2017-05-22 00:28:40   \n",
       "355  819004803107983360 2017-01-11 02:15:36   \n",
       "99   870374049280663552 2017-06-01 20:18:38   \n",
       "424  806629075125202948 2016-12-07 22:38:52   \n",
       "143  859196978902773760 2017-05-02 00:04:57   \n",
       "760  739238157791694849 2016-06-04 23:31:25   \n",
       "285  830583320585068544 2017-02-12 01:04:29   \n",
       "\n",
       "                                                  text  rating_numerator  \\\n",
       "331  Here's a super supportive puppo participating ...                13   \n",
       "741  Here's a doggo realizing you can stand in a po...                13   \n",
       "60   This is Duddles. He did an attempt. 13/10 some...                13   \n",
       "422  This is Stephan. He just wants to help. 13/10 ...                13   \n",
       "115  This is Jamesy. He gives a kiss to every other...                13   \n",
       "355  This is Bo. He was a very good First Doggo. 14...                14   \n",
       "99   This is Zoey. She really likes the planet. Wou...                13   \n",
       "424  \"Good afternoon class today we're going to lea...                13   \n",
       "143  We only rate dogs. This is quite clearly a smo...                12   \n",
       "760  Here's a doggo blowing bubbles. It's downright...                13   \n",
       "285  This is Lilly. She just parallel barked. Kindl...                13   \n",
       "\n",
       "        name             sources  \\\n",
       "331      NaN  Twitter for iPhone   \n",
       "741      NaN  Twitter for iPhone   \n",
       "60   Duddles  Twitter for iPhone   \n",
       "422  Stephan  Twitter for iPhone   \n",
       "115   Jamesy  Twitter for iPhone   \n",
       "355       Bo  Twitter for iPhone   \n",
       "99      Zoey  Twitter for iPhone   \n",
       "424      NaN  Twitter for iPhone   \n",
       "143    quite  Twitter for iPhone   \n",
       "760      NaN  Twitter for iPhone   \n",
       "285    Lilly  Twitter for iPhone   \n",
       "\n",
       "                                               jpg_url  img_num  \\\n",
       "331    https://pbs.twimg.com/media/C2tugXLXgAArJO4.jpg      1.0   \n",
       "741  https://pbs.twimg.com/ext_tw_video_thumb/74423...      1.0   \n",
       "60   https://pbs.twimg.com/ext_tw_video_thumb/87941...      1.0   \n",
       "422  https://pbs.twimg.com/ext_tw_video_thumb/80710...      1.0   \n",
       "115    https://pbs.twimg.com/media/DAZAUfBXcAAG_Nn.jpg      2.0   \n",
       "355    https://pbs.twimg.com/media/C12whDoVEAALRxa.jpg      1.0   \n",
       "99     https://pbs.twimg.com/media/DBQwlFCXkAACSkI.jpg      1.0   \n",
       "424    https://pbs.twimg.com/media/CzG425nWgAAnP7P.jpg      2.0   \n",
       "143  https://pbs.twimg.com/ext_tw_video_thumb/85919...      1.0   \n",
       "760  https://pbs.twimg.com/ext_tw_video_thumb/73923...      1.0   \n",
       "285    https://pbs.twimg.com/media/C4bTH6nWMAAX_bJ.jpg      1.0   \n",
       "\n",
       "     retweet_count  favorite_count  gender dog_stage    breed_prediction  \\\n",
       "331          48265          132810     NaN       NaN    Lakeland_terrier   \n",
       "741          79515          131075     NaN     doggo  Labrador_retriever   \n",
       "60           45849          107956    Male       NaN    English_springer   \n",
       "422          56625          107015    Male       NaN           Chihuahua   \n",
       "115          32883          106827    Male    pupper      French_bulldog   \n",
       "355          42228           95450    Male     doggo     standard_poodle   \n",
       "99           27680           85011  Female       NaN    golden_retriever   \n",
       "424          37911           75639     NaN       NaN      cocker_spaniel   \n",
       "143          25661           75193     NaN       NaN            malamute   \n",
       "760          52360           75163     NaN     doggo          Eskimo_dog   \n",
       "285          19297           73397  Female       NaN  Labrador_retriever   \n",
       "\n",
       "     confidence  \n",
       "331    0.196015  \n",
       "741    0.825333  \n",
       "60     0.383404  \n",
       "422    0.505370  \n",
       "115    0.905334  \n",
       "355    0.351308  \n",
       "99     0.841001  \n",
       "424    0.046403  \n",
       "143    0.216163  \n",
       "760    0.503372  \n",
       "285    0.908703  "
      ]
     },
     "execution_count": 57,
     "metadata": {},
     "output_type": "execute_result"
    }
   ],
   "source": [
    "#displaying the top 10 favorite counts\n",
    "fav_count = tweet_archive_clean.sort_values('favorite_count', axis = 0, ascending = False)\n",
    "fav_10 = fav_count.iloc[:11, :]\n",
    "fav_10"
   ]
  },
  {
   "cell_type": "code",
   "execution_count": 58,
   "id": "607748f7",
   "metadata": {},
   "outputs": [
    {
     "data": {
      "text/plain": [
       "Twitter for iPhone     1118\n",
       "Twitter Web Client       15\n",
       "tweetdeck TweetDeck       7\n",
       "Name: sources, dtype: int64"
      ]
     },
     "execution_count": 58,
     "metadata": {},
     "output_type": "execute_result"
    }
   ],
   "source": [
    "#displaying value counts for the sources of tweet\n",
    "tweet_archive_clean.sources.value_counts()"
   ]
  },
  {
   "cell_type": "code",
   "execution_count": 59,
   "id": "b848e26d",
   "metadata": {},
   "outputs": [
    {
     "data": {
      "text/plain": [
       "11.94122807017544"
      ]
     },
     "execution_count": 59,
     "metadata": {},
     "output_type": "execute_result"
    }
   ],
   "source": [
    "#displaying the mean rating of the dogs\n",
    "tweet_archive_clean.rating_numerator.mean()"
   ]
  },
  {
   "cell_type": "markdown",
   "id": "2530c3d8",
   "metadata": {},
   "source": [
    "### Insights:\n",
    "\n",
    "1. It can be seen that the tweet id number of 744234799360020481 of breed Labrador retriever has the most retweet count of 79515\tand favorite count of 131075\t\n",
    "\n",
    "2. It can be seen that golden retriever is the most popular dog breed\n",
    "\n",
    "3. It can be see that most of the dogs were male\n",
    "\n",
    "4. It can be seen that pupper is the most popular dog stage\n",
    "\n",
    "5. It can be seen that the tweet id number of 822872901745569793 of breed Lakeland terrier\tand dog stage puppo has the most retweet count of 48265\tand favorite count of 132810\n",
    "\n",
    "6. The most popular source of tweet was Twitter for iphone\n",
    "\n",
    "7. The mean rating is 12"
   ]
  },
  {
   "cell_type": "markdown",
   "id": "36ee38fe",
   "metadata": {},
   "source": [
    "## Visualization"
   ]
  },
  {
   "cell_type": "code",
   "execution_count": 60,
   "id": "4bb9e400",
   "metadata": {},
   "outputs": [
    {
     "data": {
      "image/png": "[encoded data removed]",
      "text/plain": [
       "<Figure size 432x288 with 1 Axes>"
      ]
     },
     "metadata": {
      "needs_background": "light"
     },
     "output_type": "display_data"
    }
   ],
   "source": [
    "#displaying the Relationship between Rating and Favorite Count\n",
    "tweet_archive_clean.plot.scatter(x='rating_numerator', y='favorite_count')\n",
    "plt.title('The Relationship between Rating and Favorite Count')\n",
    "plt.show()"
   ]
  },
  {
   "cell_type": "markdown",
   "id": "1d036bc6",
   "metadata": {},
   "source": [
    "It can be seen that there is an increase in favorite count with increase in rating numerator and the most popular rating is 13"
   ]
  },
  {
   "cell_type": "code",
   "execution_count": 61,
   "id": "1074a7b0",
   "metadata": {},
   "outputs": [
    {
     "data": {
      "image/png": "[encoded data removed]",
      "text/plain": [
       "<Figure size 432x288 with 1 Axes>"
      ]
     },
     "metadata": {
      "needs_background": "light"
     },
     "output_type": "display_data"
    }
   ],
   "source": [
    "#displaying the Relationship between Retweet Count and Favorite Count\n",
    "tweet_archive_clean.plot.scatter(x='retweet_count', y='favorite_count')\n",
    "plt.title('The Relationship between Retweet Count and Favorite Count')\n",
    "plt.show()"
   ]
  },
  {
   "cell_type": "markdown",
   "id": "78bba205",
   "metadata": {},
   "source": [
    "it can be seen that there is a positive correlation between retweet counts and favorite count"
   ]
  },
  {
   "cell_type": "code",
   "execution_count": 62,
   "id": "402bdef6",
   "metadata": {},
   "outputs": [
    {
     "data": {
      "image/png": "[encoded data removed]",
      "text/plain": [
       "<Figure size 432x288 with 1 Axes>"
      ]
     },
     "metadata": {
      "needs_background": "light"
     },
     "output_type": "display_data"
    }
   ],
   "source": [
    "#displaying the proportion of top retweeted breeds\n",
    "top_retweets['breed_prediction'].value_counts().plot.bar()\n",
    "plt.xlabel('breed count')\n",
    "plt.ylabel('breed name')\n",
    "plt.title('proportion of top retweeted breeds')\n",
    "plt.show()"
   ]
  },
  {
   "cell_type": "markdown",
   "id": "2e90a6b6",
   "metadata": {},
   "source": [
    "it can be seen that cocker spaniel is the most retweeted breed"
   ]
  },
  {
   "cell_type": "code",
   "execution_count": 63,
   "id": "420455ad",
   "metadata": {},
   "outputs": [
    {
     "data": {
      "image/png": "[encoded data removed]",
      "text/plain": [
       "<Figure size 432x288 with 1 Axes>"
      ]
     },
     "metadata": {
      "needs_background": "light"
     },
     "output_type": "display_data"
    }
   ],
   "source": [
    "#displaying the top 10 most popular breeds\n",
    "tweet_archive_clean['breed_prediction'].value_counts()[:11].plot.bar()\n",
    "plt.xlabel('breed count')\n",
    "plt.ylabel('breed name')\n",
    "plt.title('Top 10 most popular breeds')\n",
    "plt.show()"
   ]
  },
  {
   "cell_type": "markdown",
   "id": "7dddc278",
   "metadata": {},
   "source": [
    "it can be seen that Golden retriever is the most popular breed of the dogs"
   ]
  },
  {
   "cell_type": "code",
   "execution_count": 64,
   "id": "b689b54b",
   "metadata": {},
   "outputs": [
    {
     "data": {
      "image/png": "[encoded data removed]",
      "text/plain": [
       "<Figure size 432x288 with 1 Axes>"
      ]
     },
     "metadata": {},
     "output_type": "display_data"
    }
   ],
   "source": [
    "#displaying the proportion of Gender of the Dogs\n",
    "tweet_archive_clean['gender'].value_counts().plot.pie()\n",
    "plt.title('Proportion of Gender of the Dogs')\n",
    "plt.show()"
   ]
  },
  {
   "cell_type": "markdown",
   "id": "63a39ba1",
   "metadata": {},
   "source": [
    "It can be seen that there are more male dogs than female dogs"
   ]
  },
  {
   "cell_type": "code",
   "execution_count": 65,
   "id": "bc8f8ad8",
   "metadata": {},
   "outputs": [
    {
     "data": {
      "image/png": "[encoded data removed]",
      "text/plain": [
       "<Figure size 432x288 with 1 Axes>"
      ]
     },
     "metadata": {},
     "output_type": "display_data"
    }
   ],
   "source": [
    "#displaying the proportion of The Dog Stage\n",
    "tweet_archive_clean['dog_stage'].value_counts().plot.pie()\n",
    "plt.title('Proportion of The Dog Stage')\n",
    "plt.show()"
   ]
  },
  {
   "cell_type": "markdown",
   "id": "98dc9678",
   "metadata": {},
   "source": [
    "it can be seen that the most popuplar dog stage is pupper"
   ]
  },
  {
   "cell_type": "code",
   "execution_count": null,
   "id": "3a628c3e",
   "metadata": {},
   "outputs": [],
   "source": []
  }
 ],
 "metadata": {
  "kernelspec": {
   "display_name": "Python 3 (ipykernel)",
   "language": "python",
   "name": "python3"
  },
  "language_info": {
   "codemirror_mode": {
    "name": "ipython",
    "version": 3
   },
   "file_extension": ".py",
   "mimetype": "text/x-python",
   "name": "python",
   "nbconvert_exporter": "python",
   "pygments_lexer": "ipython3",
   "version": "3.9.7"
  }
 },
 "nbformat": 4,
 "nbformat_minor": 5
}
